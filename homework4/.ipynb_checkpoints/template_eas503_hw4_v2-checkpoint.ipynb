{
 "cells": [
  {
   "cell_type": "markdown",
   "metadata": {
    "deletable": true,
    "editable": true
   },
   "source": [
    "## EAS 503 Homework 4 Submission\n",
    "Name - _Enter your name here_\n",
    "\n",
    "**Make sure that you rename the notebook file to *replacewithubitname*_eas503_hw3.ipynb**\n",
    "\n",
    "\n",
    "### Submission Details \n",
    "* **Due Date** - November 28, 2017 by 11.59 PM PST. All assignments have to be submitted using UBLearns.\n",
    "* **Number of Problems** - 1 \n",
    "* **Maximum points** - 50\n",
    "* **Collaboration policy**\n",
    " - Every student has to submit individual homeworks\n",
    " - Any collaboration, in the form of discussion, with other members of the class is permitted, as long as the names of the collaborating members are explicitly stated on top of the submitted homework.\n",
    " - Any overlap with another submission or material from Internet will be awarded an F.\n",
    "* **Late submission policy** - _No late submissions allowed_\n",
    "* **Submission Format** - Enter code for each problem in the appropriate cell below. You may use multiple cells for a single problem to improve readability."
   ]
  },
  {
   "cell_type": "markdown",
   "metadata": {
    "deletable": true,
    "editable": true
   },
   "source": [
    "### Problem 1 - Chicago Crime Dataset (50 points)\n",
    "\n",
    "Recall the Chicago Crime Data that was used in HW3. In this HW you are provided with 3 data files namely `chicago_crime_data_1.csv`, `chicago_crime_data_2.csv` and `primary_type_id.csv`.  The `chicago_crime_data_1.csv` contains data pertaing to the details of the crime and the `chicago_crime_data_2.csv` has information about the location and type. Both the datasets have the Crime ID as the primary indicator. \n",
    "\n",
    "The `primary_type_id.csv` contains the mapping between the primary crime type to their corresponding ID.\n",
    "\n",
    "Using pymysql import the chicago crime data. Check if the data format are correct. In this problem, you will be asked to create a single sql query that will result in the desired output. Wherever required, provide the algebraic expressions and expression trees.\n",
    "\n",
    "1. What is the average crime rate in each year? (Query)\n",
    "\n",
    "2. Subset the list of crimes that occured at SIDEWALK and an arrest has been made. (Query, algebraic expression and expression tree)\n",
    "\n",
    "3. In the resulting dataset, identify the crime type that resulted in most crimes per each district. (Query)\n",
    "\n",
    "4. List the crimes with FBI code = 26 and domestic? (Query, algebraic expression and expression tree) \n",
    "\n",
    "5. What is the increase in the number of crimes involving thefts (primary crime type) from 2016 to 2017? (Query)\n",
    "\n",
    "6. What are the 3 most common types of crimes in `001XX N PARKSIDE AVE`? Provide the corresponding crime counts for these crime types. (Query)\n",
    "\n",
    "7. Average days between the crime indcident date and last updated date. (Query)\n",
    "\n",
    "8. List the crimes that were committed on `4/30/2016` and updated on the same day. (Query, algebraic expression, expression tree)\n",
    "\n",
    "9. Subset the list of crimes in 2016 that were domestic and occured on a `STREET` and an arrest was made. (Query, algebraic expression, expression tree)\n",
    "\n",
    "10. Are there any crimes that involved `Telephone threats` that occured in Disctric `10` and FBI code `30`? (Query, algebraic expression, expression tree)\n",
    "\n",
    "\n",
    "Submit the SQL query as a .txt file. The algebraic expressions and expression tree can hand written and submitted through UBLearns as a single PDF file."
   ]
  },
  {
   "cell_type": "code",
   "execution_count": 6,
   "metadata": {
    "collapsed": true,
    "deletable": true,
    "editable": true
   },
   "outputs": [],
   "source": [
    "#Enter your solution here\n",
    "import pymysql\n",
    "import csv\n",
    "conn = pymysql.connect(host=\"127.0.0.1\", user = \"root\", passwd = \"123456\")\n",
    "cursor = conn.cursor()"
   ]
  },
  {
   "cell_type": "code",
   "execution_count": 13,
   "metadata": {
    "collapsed": false,
    "deletable": true,
    "editable": true,
    "scrolled": true
   },
   "outputs": [
    {
     "name": "stderr",
     "output_type": "stream",
     "text": [
      "/Users/yujialian/Library/miniconda3/lib/python3.5/site-packages/pymysql/cursors.py:166: Warning: (1007, \"Can't create database 'crime_dataset'; database exists\")\n",
      "  result = self._query(query)\n"
     ]
    }
   ],
   "source": [
    "cursor.execute('CREATE DATABASE IF NOT EXISTS crime_dataset;')\n",
    "cursor.execute('USE crime_dataset;')\n",
    "cursor.execute('DROP TABLE IF EXISTS crime_info;')\n",
    "cursor.execute(\"\"\"CREATE TABLE IF NOT EXISTS crime_info(\n",
    "              Crime_ID INT UNSIGNED NOT NULL,\n",
    "              Case_Number VARCHAR(10) NOT NULL,\n",
    "              Date DATETIME,\n",
    "              Arrest VARCHAR(5),\n",
    "              Domestic VARCHAR(5),\n",
    "              Beat SMALLINT(4) UNSIGNED,\n",
    "              District TINYINT(3) UNSIGNED,\n",
    "              Ward VARCHAR(3) DEFAULT NULL,\n",
    "              Community_Area TINYINT(2) UNSIGNED,\n",
    "              FBI_Code VARCHAR(3));\n",
    "              \"\"\")\n",
    "conn.commit()"
   ]
  },
  {
   "cell_type": "code",
   "execution_count": 14,
   "metadata": {
    "collapsed": false,
    "deletable": true,
    "editable": true
   },
   "outputs": [],
   "source": [
    "cursor.execute('DROP TABLE IF EXISTS crime_detail;')\n",
    "cursor.execute(\"\"\"CREATE TABLE IF NOT EXISTS crime_detail(\n",
    "              Crime_ID INT(8) UNSIGNED NOT NULL,\n",
    "              Case_Number VARCHAR(10) NOT NULL,\n",
    "              Block VARCHAR(40),\n",
    "              IUCR VARCHAR(6),\n",
    "              Primary_ID TINYINT(3) UNSIGNED,\n",
    "              Description VARCHAR(100),\n",
    "              Location_Des VARCHAR(100),\n",
    "              X_Coor VARCHAR(10) DEFAULT NULL,\n",
    "              y_Coor VARCHAR(10) DEFAULT NULL,\n",
    "              Year YEAR,\n",
    "              Update_Date DATETIME,\n",
    "              Location VARCHAR(32));\n",
    "              \"\"\")\n",
    "conn.commit()"
   ]
  },
  {
   "cell_type": "code",
   "execution_count": 15,
   "metadata": {
    "collapsed": false,
    "deletable": true,
    "editable": true
   },
   "outputs": [],
   "source": [
    "cursor.execute('DROP TABLE IF EXISTS crime_id;')\n",
    "cursor.execute(\"\"\"CREATE TABLE IF NOT EXISTS crime_id(\n",
    "              Primary_Type_ID VARCHAR(50),\n",
    "              Primary_ID TINYINT(3) UNSIGNED,\n",
    "              PRIMARY KEY(Primary_Type_ID)\n",
    "              );\n",
    "              \"\"\")\n",
    "conn.commit()"
   ]
  },
  {
   "cell_type": "code",
   "execution_count": 16,
   "metadata": {
    "collapsed": true,
    "deletable": true,
    "editable": true
   },
   "outputs": [],
   "source": [
    "from datetime import datetime\n",
    "f = open(\"chicago_crime_data_1.csv\", \"r\")\n",
    "info_reader = csv.reader(f)\n",
    "next(info_reader, None)\n",
    "info = []\n",
    "for row in csv.reader(f):\n",
    "    row[2] = datetime.strptime(row[2],'%m/%d/%Y %H:%M')\n",
    "    info.append(row)\n",
    "f.close()"
   ]
  },
  {
   "cell_type": "code",
   "execution_count": 17,
   "metadata": {
    "collapsed": false,
    "deletable": true,
    "editable": true,
    "scrolled": true
   },
   "outputs": [],
   "source": [
    "cursor.executemany(\"INSERT INTO crime_info values(%s, %s, %s, %s, %s, %s, %s, %s, %s, %s)\", info)\n",
    "conn.commit()"
   ]
  },
  {
   "cell_type": "code",
   "execution_count": 18,
   "metadata": {
    "collapsed": false,
    "deletable": true,
    "editable": true
   },
   "outputs": [],
   "source": [
    "f = open(\"chicago_crime_data_2.csv\", \"r\")\n",
    "info_reader = csv.reader(f)\n",
    "next(info_reader, None)\n",
    "des = []\n",
    "for row in csv.reader(f):\n",
    "    row[10] = datetime.strptime(row[10],'%m/%d/%Y %H:%M')\n",
    "    des.append(row)\n",
    "f.close()"
   ]
  },
  {
   "cell_type": "code",
   "execution_count": 19,
   "metadata": {
    "collapsed": false,
    "deletable": true,
    "editable": true
   },
   "outputs": [],
   "source": [
    "cursor.executemany(\"INSERT INTO crime_detail values(%s, %s, %s, %s, %s, %s, %s, %s, %s, %s, %s, %s)\", des)\n",
    "conn.commit()"
   ]
  },
  {
   "cell_type": "code",
   "execution_count": 20,
   "metadata": {
    "collapsed": true,
    "deletable": true,
    "editable": true
   },
   "outputs": [],
   "source": [
    "f = open(\"primary_type_id.csv\", \"r\")\n",
    "info_reader = csv.reader(f)\n",
    "next(info_reader, None)\n",
    "crime_id = []\n",
    "for row in csv.reader(f):\n",
    "    crime_id.append(row)\n",
    "f.close()"
   ]
  },
  {
   "cell_type": "code",
   "execution_count": 21,
   "metadata": {
    "collapsed": false,
    "deletable": true,
    "editable": true
   },
   "outputs": [],
   "source": [
    "cursor.executemany(\"INSERT INTO crime_id values(%s, %s)\", crime_id)\n",
    "conn.commit()"
   ]
  },
  {
   "cell_type": "code",
   "execution_count": 22,
   "metadata": {
    "collapsed": false,
    "deletable": true,
    "editable": true,
    "scrolled": true
   },
   "outputs": [
    {
     "data": {
      "text/plain": [
       "((2016, Decimal('0.0992')), (2017, Decimal('0.0624')))"
      ]
     },
     "execution_count": 22,
     "metadata": {},
     "output_type": "execute_result"
    }
   ],
   "source": [
    "#Problem 1\n",
    "crime_rate = cursor.execute(\"SELECT Year, COUNT(Crime_ID)/2700000 from crime_detail group by Year;\")\n",
    "result=cursor.fetchall()\n",
    "result"
   ]
  },
  {
   "cell_type": "code",
   "execution_count": 35,
   "metadata": {
    "collapsed": false,
    "deletable": true,
    "editable": true
   },
   "outputs": [
    {
     "name": "stdout",
     "output_type": "stream",
     "text": [
      "(28, 2)\n"
     ]
    },
    {
     "data": {
      "text/html": [
       "<div>\n",
       "<style>\n",
       "    .dataframe thead tr:only-child th {\n",
       "        text-align: right;\n",
       "    }\n",
       "\n",
       "    .dataframe thead th {\n",
       "        text-align: left;\n",
       "    }\n",
       "\n",
       "    .dataframe tbody tr th {\n",
       "        vertical-align: top;\n",
       "    }\n",
       "</style>\n",
       "<table border=\"1\" class=\"dataframe\">\n",
       "  <thead>\n",
       "    <tr style=\"text-align: right;\">\n",
       "      <th></th>\n",
       "      <th>Primary_Type_ID</th>\n",
       "      <th>Primary_ID</th>\n",
       "    </tr>\n",
       "  </thead>\n",
       "  <tbody>\n",
       "    <tr>\n",
       "      <th>0</th>\n",
       "      <td>ARSON</td>\n",
       "      <td>1</td>\n",
       "    </tr>\n",
       "    <tr>\n",
       "      <th>1</th>\n",
       "      <td>ASSAULT</td>\n",
       "      <td>2</td>\n",
       "    </tr>\n",
       "    <tr>\n",
       "      <th>2</th>\n",
       "      <td>BATTERY</td>\n",
       "      <td>3</td>\n",
       "    </tr>\n",
       "    <tr>\n",
       "      <th>3</th>\n",
       "      <td>BURGLARY</td>\n",
       "      <td>4</td>\n",
       "    </tr>\n",
       "    <tr>\n",
       "      <th>4</th>\n",
       "      <td>CONCEALED CARRY LICENSE VIOLATION</td>\n",
       "      <td>5</td>\n",
       "    </tr>\n",
       "    <tr>\n",
       "      <th>5</th>\n",
       "      <td>CRIM SEXUAL ASSAULT</td>\n",
       "      <td>6</td>\n",
       "    </tr>\n",
       "    <tr>\n",
       "      <th>6</th>\n",
       "      <td>CRIMINAL DAMAGE</td>\n",
       "      <td>7</td>\n",
       "    </tr>\n",
       "    <tr>\n",
       "      <th>7</th>\n",
       "      <td>CRIMINAL TRESPASS</td>\n",
       "      <td>8</td>\n",
       "    </tr>\n",
       "    <tr>\n",
       "      <th>8</th>\n",
       "      <td>DECEPTIVE PRACTICE</td>\n",
       "      <td>9</td>\n",
       "    </tr>\n",
       "    <tr>\n",
       "      <th>9</th>\n",
       "      <td>GAMBLING</td>\n",
       "      <td>10</td>\n",
       "    </tr>\n",
       "    <tr>\n",
       "      <th>10</th>\n",
       "      <td>INTERFERENCE WITH PUBLIC OFFICER</td>\n",
       "      <td>13</td>\n",
       "    </tr>\n",
       "    <tr>\n",
       "      <th>11</th>\n",
       "      <td>INTIMIDATION</td>\n",
       "      <td>14</td>\n",
       "    </tr>\n",
       "    <tr>\n",
       "      <th>12</th>\n",
       "      <td>KIDNAPPING</td>\n",
       "      <td>15</td>\n",
       "    </tr>\n",
       "    <tr>\n",
       "      <th>13</th>\n",
       "      <td>LIQUOR LAW VIOLATION</td>\n",
       "      <td>16</td>\n",
       "    </tr>\n",
       "    <tr>\n",
       "      <th>14</th>\n",
       "      <td>MOTOR VEHICLE THEFT</td>\n",
       "      <td>17</td>\n",
       "    </tr>\n",
       "    <tr>\n",
       "      <th>15</th>\n",
       "      <td>NARCOTICS</td>\n",
       "      <td>18</td>\n",
       "    </tr>\n",
       "    <tr>\n",
       "      <th>16</th>\n",
       "      <td>OBSCENITY</td>\n",
       "      <td>22</td>\n",
       "    </tr>\n",
       "    <tr>\n",
       "      <th>17</th>\n",
       "      <td>OFFENSE INVOLVING CHILDREN</td>\n",
       "      <td>23</td>\n",
       "    </tr>\n",
       "    <tr>\n",
       "      <th>18</th>\n",
       "      <td>OTHER NARCOTIC VIOLATION</td>\n",
       "      <td>24</td>\n",
       "    </tr>\n",
       "    <tr>\n",
       "      <th>19</th>\n",
       "      <td>OTHER OFFENSE</td>\n",
       "      <td>25</td>\n",
       "    </tr>\n",
       "    <tr>\n",
       "      <th>20</th>\n",
       "      <td>PROSTITUTION</td>\n",
       "      <td>26</td>\n",
       "    </tr>\n",
       "    <tr>\n",
       "      <th>21</th>\n",
       "      <td>PUBLIC INDECENCY</td>\n",
       "      <td>27</td>\n",
       "    </tr>\n",
       "    <tr>\n",
       "      <th>22</th>\n",
       "      <td>PUBLIC PEACE VIOLATION</td>\n",
       "      <td>28</td>\n",
       "    </tr>\n",
       "    <tr>\n",
       "      <th>23</th>\n",
       "      <td>ROBBERY</td>\n",
       "      <td>29</td>\n",
       "    </tr>\n",
       "    <tr>\n",
       "      <th>24</th>\n",
       "      <td>SEX OFFENSE</td>\n",
       "      <td>30</td>\n",
       "    </tr>\n",
       "    <tr>\n",
       "      <th>25</th>\n",
       "      <td>STALKING</td>\n",
       "      <td>31</td>\n",
       "    </tr>\n",
       "    <tr>\n",
       "      <th>26</th>\n",
       "      <td>THEFT</td>\n",
       "      <td>32</td>\n",
       "    </tr>\n",
       "    <tr>\n",
       "      <th>27</th>\n",
       "      <td>WEAPONS VIOLATION</td>\n",
       "      <td>33</td>\n",
       "    </tr>\n",
       "  </tbody>\n",
       "</table>\n",
       "</div>"
      ],
      "text/plain": [
       "                      Primary_Type_ID  Primary_ID\n",
       "0                               ARSON           1\n",
       "1                             ASSAULT           2\n",
       "2                             BATTERY           3\n",
       "3                            BURGLARY           4\n",
       "4   CONCEALED CARRY LICENSE VIOLATION           5\n",
       "5                 CRIM SEXUAL ASSAULT           6\n",
       "6                     CRIMINAL DAMAGE           7\n",
       "7                   CRIMINAL TRESPASS           8\n",
       "8                  DECEPTIVE PRACTICE           9\n",
       "9                            GAMBLING          10\n",
       "10   INTERFERENCE WITH PUBLIC OFFICER          13\n",
       "11                       INTIMIDATION          14\n",
       "12                         KIDNAPPING          15\n",
       "13               LIQUOR LAW VIOLATION          16\n",
       "14                MOTOR VEHICLE THEFT          17\n",
       "15                          NARCOTICS          18\n",
       "16                          OBSCENITY          22\n",
       "17         OFFENSE INVOLVING CHILDREN          23\n",
       "18           OTHER NARCOTIC VIOLATION          24\n",
       "19                      OTHER OFFENSE          25\n",
       "20                       PROSTITUTION          26\n",
       "21                   PUBLIC INDECENCY          27\n",
       "22             PUBLIC PEACE VIOLATION          28\n",
       "23                            ROBBERY          29\n",
       "24                        SEX OFFENSE          30\n",
       "25                           STALKING          31\n",
       "26                              THEFT          32\n",
       "27                  WEAPONS VIOLATION          33"
      ]
     },
     "execution_count": 35,
     "metadata": {},
     "output_type": "execute_result"
    }
   ],
   "source": [
    "#Problem 2\n",
    "import pandas as pd\n",
    "qry1 = \"SELECT * FROM crime_id WHERE Primary_ID IN (SELECT Primary_ID FROM Crime_detail WHERE Crime_ID IN (SELECT Crime_ID FROM crime_info WHERE Arrest='TRUE') AND Location_Des='SIDEWALK' GROUP BY Primary_ID);\"\n",
    "df1=pd.DataFrame(pd.read_sql(qry1,conn))\n",
    "print(df1.shape)\n",
    "df1"
   ]
  },
  {
   "cell_type": "code",
   "execution_count": null,
   "metadata": {
    "collapsed": true
   },
   "outputs": [],
   "source": [
    "#Probem 3\n"
   ]
  },
  {
   "cell_type": "code",
   "execution_count": 6,
   "metadata": {
    "collapsed": true,
    "deletable": true,
    "editable": true
   },
   "outputs": [],
   "source": [
    "import pandas as pd\n",
    "crime_1 = pd.read_csv('chicago_crime_data_1.csv')\n",
    "crime_2 = pd.read_csv('chicago_crime_data_2.csv')\n",
    "crime_3 = pd.read_csv('primary_type_id.csv')"
   ]
  },
  {
   "cell_type": "code",
   "execution_count": 57,
   "metadata": {
    "collapsed": false,
    "deletable": true,
    "editable": true
   },
   "outputs": [
    {
     "data": {
      "text/html": [
       "<div>\n",
       "<style>\n",
       "    .dataframe thead tr:only-child th {\n",
       "        text-align: right;\n",
       "    }\n",
       "\n",
       "    .dataframe thead th {\n",
       "        text-align: left;\n",
       "    }\n",
       "\n",
       "    .dataframe tbody tr th {\n",
       "        vertical-align: top;\n",
       "    }\n",
       "</style>\n",
       "<table border=\"1\" class=\"dataframe\">\n",
       "  <thead>\n",
       "    <tr style=\"text-align: right;\">\n",
       "      <th></th>\n",
       "      <th>Crime_ID</th>\n",
       "      <th>Case Number</th>\n",
       "      <th>Date</th>\n",
       "      <th>Arrest</th>\n",
       "      <th>Domestic</th>\n",
       "      <th>Beat</th>\n",
       "      <th>District</th>\n",
       "      <th>Ward</th>\n",
       "      <th>Community Area</th>\n",
       "      <th>FBI Code</th>\n",
       "    </tr>\n",
       "  </thead>\n",
       "  <tbody>\n",
       "    <tr>\n",
       "      <th>0</th>\n",
       "      <td>10496347</td>\n",
       "      <td>HZ237390</td>\n",
       "      <td>4/23/2016 16:55</td>\n",
       "      <td>False</td>\n",
       "      <td>False</td>\n",
       "      <td>1512</td>\n",
       "      <td>15</td>\n",
       "      <td>29.0</td>\n",
       "      <td>25</td>\n",
       "      <td>14</td>\n",
       "    </tr>\n",
       "    <tr>\n",
       "      <th>1</th>\n",
       "      <td>10496348</td>\n",
       "      <td>HZ237355</td>\n",
       "      <td>4/23/2016 14:00</td>\n",
       "      <td>False</td>\n",
       "      <td>False</td>\n",
       "      <td>111</td>\n",
       "      <td>1</td>\n",
       "      <td>42.0</td>\n",
       "      <td>32</td>\n",
       "      <td>6</td>\n",
       "    </tr>\n",
       "    <tr>\n",
       "      <th>2</th>\n",
       "      <td>10496349</td>\n",
       "      <td>HZ237341</td>\n",
       "      <td>4/23/2016 16:10</td>\n",
       "      <td>True</td>\n",
       "      <td>False</td>\n",
       "      <td>915</td>\n",
       "      <td>9</td>\n",
       "      <td>11.0</td>\n",
       "      <td>34</td>\n",
       "      <td>04B</td>\n",
       "    </tr>\n",
       "    <tr>\n",
       "      <th>3</th>\n",
       "      <td>10496350</td>\n",
       "      <td>HZ237330</td>\n",
       "      <td>4/23/2016 13:30</td>\n",
       "      <td>False</td>\n",
       "      <td>False</td>\n",
       "      <td>1624</td>\n",
       "      <td>16</td>\n",
       "      <td>38.0</td>\n",
       "      <td>15</td>\n",
       "      <td>3</td>\n",
       "    </tr>\n",
       "    <tr>\n",
       "      <th>4</th>\n",
       "      <td>10496351</td>\n",
       "      <td>HZ237402</td>\n",
       "      <td>4/23/2016 16:45</td>\n",
       "      <td>False</td>\n",
       "      <td>True</td>\n",
       "      <td>632</td>\n",
       "      <td>6</td>\n",
       "      <td>8.0</td>\n",
       "      <td>44</td>\n",
       "      <td>26</td>\n",
       "    </tr>\n",
       "  </tbody>\n",
       "</table>\n",
       "</div>"
      ],
      "text/plain": [
       "   Crime_ID Case Number             Date  Arrest  Domestic  Beat  District  \\\n",
       "0  10496347    HZ237390  4/23/2016 16:55   False     False  1512        15   \n",
       "1  10496348    HZ237355  4/23/2016 14:00   False     False   111         1   \n",
       "2  10496349    HZ237341  4/23/2016 16:10    True     False   915         9   \n",
       "3  10496350    HZ237330  4/23/2016 13:30   False     False  1624        16   \n",
       "4  10496351    HZ237402  4/23/2016 16:45   False      True   632         6   \n",
       "\n",
       "   Ward  Community Area FBI Code  \n",
       "0  29.0              25       14  \n",
       "1  42.0              32        6  \n",
       "2  11.0              34      04B  \n",
       "3  38.0              15        3  \n",
       "4   8.0              44       26  "
      ]
     },
     "execution_count": 57,
     "metadata": {},
     "output_type": "execute_result"
    }
   ],
   "source": [
    "crime_1.head()"
   ]
  },
  {
   "cell_type": "code",
   "execution_count": 83,
   "metadata": {
    "collapsed": false,
    "deletable": true,
    "editable": true,
    "scrolled": false
   },
   "outputs": [
    {
     "data": {
      "text/html": [
       "<div>\n",
       "<style>\n",
       "    .dataframe thead tr:only-child th {\n",
       "        text-align: right;\n",
       "    }\n",
       "\n",
       "    .dataframe thead th {\n",
       "        text-align: left;\n",
       "    }\n",
       "\n",
       "    .dataframe tbody tr th {\n",
       "        vertical-align: top;\n",
       "    }\n",
       "</style>\n",
       "<table border=\"1\" class=\"dataframe\">\n",
       "  <thead>\n",
       "    <tr style=\"text-align: right;\">\n",
       "      <th></th>\n",
       "      <th>Crime_ID</th>\n",
       "      <th>Case Number</th>\n",
       "      <th>Block</th>\n",
       "      <th>IUCR</th>\n",
       "      <th>Primary Type ID</th>\n",
       "      <th>Description</th>\n",
       "      <th>Location Description</th>\n",
       "      <th>X Coordinate</th>\n",
       "      <th>Y Coordinate</th>\n",
       "      <th>Year</th>\n",
       "      <th>Updated On</th>\n",
       "      <th>Location</th>\n",
       "    </tr>\n",
       "  </thead>\n",
       "  <tbody>\n",
       "    <tr>\n",
       "      <th>0</th>\n",
       "      <td>10496347</td>\n",
       "      <td>HZ237390</td>\n",
       "      <td>001XX N PARKSIDE AVE</td>\n",
       "      <td>1310</td>\n",
       "      <td>7</td>\n",
       "      <td>TO PROPERTY</td>\n",
       "      <td>APARTMENT</td>\n",
       "      <td>1138578.0</td>\n",
       "      <td>1900413.0</td>\n",
       "      <td>2016</td>\n",
       "      <td>4/30/2016 15:51</td>\n",
       "      <td>(41.88285803, -87.766599362)</td>\n",
       "    </tr>\n",
       "    <tr>\n",
       "      <th>1</th>\n",
       "      <td>10496348</td>\n",
       "      <td>HZ237355</td>\n",
       "      <td>0000X E RIVERWALK S</td>\n",
       "      <td>820</td>\n",
       "      <td>32</td>\n",
       "      <td>$500 AND UNDER</td>\n",
       "      <td>SIDEWALK</td>\n",
       "      <td>1176778.0</td>\n",
       "      <td>1902518.0</td>\n",
       "      <td>2016</td>\n",
       "      <td>4/30/2016 15:51</td>\n",
       "      <td>(41.887856357, -87.626264274)</td>\n",
       "    </tr>\n",
       "    <tr>\n",
       "      <th>2</th>\n",
       "      <td>10496349</td>\n",
       "      <td>HZ237341</td>\n",
       "      <td>003XX W 35TH ST</td>\n",
       "      <td>495</td>\n",
       "      <td>3</td>\n",
       "      <td>AGGRAVATED OF A SENIOR CITIZEN</td>\n",
       "      <td>SPORTS ARENA/STADIUM</td>\n",
       "      <td>1174431.0</td>\n",
       "      <td>1881739.0</td>\n",
       "      <td>2016</td>\n",
       "      <td>4/30/2016 15:51</td>\n",
       "      <td>(41.830890037, -87.635503335)</td>\n",
       "    </tr>\n",
       "    <tr>\n",
       "      <th>3</th>\n",
       "      <td>10496350</td>\n",
       "      <td>HZ237330</td>\n",
       "      <td>040XX N MAJOR AVE</td>\n",
       "      <td>031A</td>\n",
       "      <td>29</td>\n",
       "      <td>ARMED: HANDGUN</td>\n",
       "      <td>ALLEY</td>\n",
       "      <td>1137626.0</td>\n",
       "      <td>1926291.0</td>\n",
       "      <td>2016</td>\n",
       "      <td>4/30/2016 15:51</td>\n",
       "      <td>(41.953887423, -87.76947041)</td>\n",
       "    </tr>\n",
       "    <tr>\n",
       "      <th>4</th>\n",
       "      <td>10496351</td>\n",
       "      <td>HZ237402</td>\n",
       "      <td>084XX S DREXEL AVE</td>\n",
       "      <td>2820</td>\n",
       "      <td>25</td>\n",
       "      <td>TELEPHONE THREAT</td>\n",
       "      <td>RESIDENCE</td>\n",
       "      <td>1183692.0</td>\n",
       "      <td>1849271.0</td>\n",
       "      <td>2016</td>\n",
       "      <td>4/30/2016 15:51</td>\n",
       "      <td>(41.741583562, -87.602537135)</td>\n",
       "    </tr>\n",
       "  </tbody>\n",
       "</table>\n",
       "</div>"
      ],
      "text/plain": [
       "   Crime_ID Case Number                 Block  IUCR  Primary Type ID  \\\n",
       "0  10496347    HZ237390  001XX N PARKSIDE AVE  1310                7   \n",
       "1  10496348    HZ237355   0000X E RIVERWALK S   820               32   \n",
       "2  10496349    HZ237341       003XX W 35TH ST   495                3   \n",
       "3  10496350    HZ237330     040XX N MAJOR AVE  031A               29   \n",
       "4  10496351    HZ237402    084XX S DREXEL AVE  2820               25   \n",
       "\n",
       "                      Description  Location Description  X Coordinate  \\\n",
       "0                     TO PROPERTY             APARTMENT     1138578.0   \n",
       "1                  $500 AND UNDER              SIDEWALK     1176778.0   \n",
       "2  AGGRAVATED OF A SENIOR CITIZEN  SPORTS ARENA/STADIUM     1174431.0   \n",
       "3                  ARMED: HANDGUN                 ALLEY     1137626.0   \n",
       "4                TELEPHONE THREAT             RESIDENCE     1183692.0   \n",
       "\n",
       "   Y Coordinate  Year       Updated On                       Location  \n",
       "0     1900413.0  2016  4/30/2016 15:51   (41.88285803, -87.766599362)  \n",
       "1     1902518.0  2016  4/30/2016 15:51  (41.887856357, -87.626264274)  \n",
       "2     1881739.0  2016  4/30/2016 15:51  (41.830890037, -87.635503335)  \n",
       "3     1926291.0  2016  4/30/2016 15:51   (41.953887423, -87.76947041)  \n",
       "4     1849271.0  2016  4/30/2016 15:51  (41.741583562, -87.602537135)  "
      ]
     },
     "execution_count": 83,
     "metadata": {},
     "output_type": "execute_result"
    }
   ],
   "source": [
    "crime_2.head()"
   ]
  },
  {
   "cell_type": "code",
   "execution_count": 53,
   "metadata": {
    "collapsed": false,
    "deletable": true,
    "editable": true
   },
   "outputs": [
    {
     "data": {
      "text/plain": [
       "1094231.0"
      ]
     },
     "execution_count": 53,
     "metadata": {},
     "output_type": "execute_result"
    }
   ],
   "source": [
    "crime_2['X Coordinate'].min()"
   ]
  },
  {
   "cell_type": "code",
   "execution_count": 46,
   "metadata": {
    "collapsed": false,
    "deletable": true,
    "editable": true,
    "scrolled": false
   },
   "outputs": [
    {
     "data": {
      "text/html": [
       "<div>\n",
       "<style>\n",
       "    .dataframe thead tr:only-child th {\n",
       "        text-align: right;\n",
       "    }\n",
       "\n",
       "    .dataframe thead th {\n",
       "        text-align: left;\n",
       "    }\n",
       "\n",
       "    .dataframe tbody tr th {\n",
       "        vertical-align: top;\n",
       "    }\n",
       "</style>\n",
       "<table border=\"1\" class=\"dataframe\">\n",
       "  <thead>\n",
       "    <tr style=\"text-align: right;\">\n",
       "      <th></th>\n",
       "      <th>Primary Type</th>\n",
       "      <th>Primary Type ID</th>\n",
       "    </tr>\n",
       "  </thead>\n",
       "  <tbody>\n",
       "    <tr>\n",
       "      <th>0</th>\n",
       "      <td>ARSON</td>\n",
       "      <td>1</td>\n",
       "    </tr>\n",
       "    <tr>\n",
       "      <th>1</th>\n",
       "      <td>ASSAULT</td>\n",
       "      <td>2</td>\n",
       "    </tr>\n",
       "    <tr>\n",
       "      <th>2</th>\n",
       "      <td>BATTERY</td>\n",
       "      <td>3</td>\n",
       "    </tr>\n",
       "    <tr>\n",
       "      <th>3</th>\n",
       "      <td>BURGLARY</td>\n",
       "      <td>4</td>\n",
       "    </tr>\n",
       "    <tr>\n",
       "      <th>4</th>\n",
       "      <td>CONCEALED CARRY LICENSE VIOLATION</td>\n",
       "      <td>5</td>\n",
       "    </tr>\n",
       "  </tbody>\n",
       "</table>\n",
       "</div>"
      ],
      "text/plain": [
       "                        Primary Type  Primary Type ID\n",
       "0                              ARSON                1\n",
       "1                            ASSAULT                2\n",
       "2                            BATTERY                3\n",
       "3                           BURGLARY                4\n",
       "4  CONCEALED CARRY LICENSE VIOLATION                5"
      ]
     },
     "execution_count": 46,
     "metadata": {},
     "output_type": "execute_result"
    }
   ],
   "source": [
    "crime_3.head()"
   ]
  },
  {
   "cell_type": "code",
   "execution_count": 58,
   "metadata": {
    "collapsed": false,
    "deletable": true,
    "editable": true
   },
   "outputs": [
    {
     "data": {
      "text/plain": [
       "0      1\n",
       "1      2\n",
       "2      3\n",
       "3      4\n",
       "4      5\n",
       "5      6\n",
       "6      7\n",
       "7      8\n",
       "8      9\n",
       "9     10\n",
       "10    11\n",
       "11    12\n",
       "12    13\n",
       "13    14\n",
       "14    15\n",
       "15    16\n",
       "16    17\n",
       "17    18\n",
       "18    19\n",
       "19    20\n",
       "20    21\n",
       "21    22\n",
       "22    23\n",
       "23    24\n",
       "24    25\n",
       "25    26\n",
       "26    27\n",
       "27    28\n",
       "28    29\n",
       "29    30\n",
       "30    31\n",
       "31    32\n",
       "32    33\n",
       "Name: Primary Type ID, dtype: int64"
      ]
     },
     "execution_count": 58,
     "metadata": {},
     "output_type": "execute_result"
    }
   ],
   "source": [
    "crime_3['Primary Type ID']"
   ]
  },
  {
   "cell_type": "code",
   "execution_count": null,
   "metadata": {
    "collapsed": true,
    "deletable": true,
    "editable": true
   },
   "outputs": [],
   "source": []
  }
 ],
 "metadata": {
  "kernelspec": {
   "display_name": "Python 3",
   "language": "python",
   "name": "python3"
  },
  "language_info": {
   "codemirror_mode": {
    "name": "ipython",
    "version": 3
   },
   "file_extension": ".py",
   "mimetype": "text/x-python",
   "name": "python",
   "nbconvert_exporter": "python",
   "pygments_lexer": "ipython3",
   "version": "3.5.4"
  }
 },
 "nbformat": 4,
 "nbformat_minor": 2
}
