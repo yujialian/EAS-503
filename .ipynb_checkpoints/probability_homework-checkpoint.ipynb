{
 "cells": [
  {
   "cell_type": "code",
   "execution_count": 51,
   "metadata": {
    "collapsed": false
   },
   "outputs": [
    {
     "data": {
      "image/png": "[encoded data removed]",
      "text/plain": [
       "<matplotlib.figure.Figure at 0x10505f6d8>"
      ]
     },
     "metadata": {},
     "output_type": "display_data"
    }
   ],
   "source": [
    "import numpy as np\n",
    "import matplotlib.pyplot as plt\n",
    "\n",
    "def simulation(Total):\n",
    "    A = [2,4,6]\n",
    "    B = [1,2,3,4]\n",
    "    A_B = [2,4]\n",
    "    A_Prob = []\n",
    "    B_Prob = []\n",
    "    A_B_Prob = []\n",
    "    Total_A = 0\n",
    "    Total_B = 0\n",
    "    Total_A_B = 0\n",
    "    current_index = 0\n",
    "    while(current_index != Total):\n",
    "        current_index = current_index + 1\n",
    "        toss = np.random.randint(1, 7)\n",
    "        if toss in A:\n",
    "            Total_A = Total_A + 1\n",
    "        if toss in B:\n",
    "            Total_B = Total_B + 1\n",
    "        if toss in A_B:\n",
    "            Total_A_B = Total_A_B + 1\n",
    "        A_Prob.append(Total_A/current_index)\n",
    "        B_Prob.append(Total_B/current_index)\n",
    "        A_B_Prob.append(Total_A_B/current_index)\n",
    "        \n",
    "    plt.plot(list(range(Total)), A_Prob,label = \"P(A)\")\n",
    "    plt.plot(list(range(Total)), B_Prob, label = \"P(B)\")\n",
    "    plt.plot(list(range(Total)), A_B_Prob, label = \"P(A AND B)\")\n",
    "    plt.plot(list(range(Total)), [a*b for a,b in zip(A_Prob,B_Prob)], label = \"P(A)*P(B)\")\n",
    "    plt.legend(loc='upper right')\n",
    "    plt.show()\n",
    "simulation(100000)"
   ]
  },
  {
   "cell_type": "code",
   "execution_count": null,
   "metadata": {
    "collapsed": true
   },
   "outputs": [],
   "source": []
  },
  {
   "cell_type": "code",
   "execution_count": null,
   "metadata": {
    "collapsed": true
   },
   "outputs": [],
   "source": []
  },
  {
   "cell_type": "code",
   "execution_count": null,
   "metadata": {
    "collapsed": true
   },
   "outputs": [],
   "source": []
  }
 ],
 "metadata": {
  "kernelspec": {
   "display_name": "Python 3",
   "language": "python",
   "name": "python3"
  },
  "language_info": {
   "codemirror_mode": {
    "name": "ipython",
    "version": 3
   },
   "file_extension": ".py",
   "mimetype": "text/x-python",
   "name": "python",
   "nbconvert_exporter": "python",
   "pygments_lexer": "ipython3",
   "version": "3.5.4"
  }
 },
 "nbformat": 4,
 "nbformat_minor": 2
}
