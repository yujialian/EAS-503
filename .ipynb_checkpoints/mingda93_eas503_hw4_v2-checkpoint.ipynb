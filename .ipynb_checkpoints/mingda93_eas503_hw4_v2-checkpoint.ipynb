{
 "cells": [
  {
   "cell_type": "markdown",
   "metadata": {
    "deletable": true,
    "editable": true
   },
   "source": [
    "## EAS 503 Homework 4 Submission\n",
    "Name - _Martin Jia_\n",
    "\n",
    "**Make sure that you rename the notebook file to *replacewithubitname*_eas503_hw3.ipynb**\n",
    "\n",
    "\n",
    "### Submission Details \n",
    "* **Due Date** - November 28, 2017 by 11.59 PM PST. All assignments have to be submitted using UBLearns.\n",
    "* **Number of Problems** - 1 \n",
    "* **Maximum points** - 50\n",
    "* **Collaboration policy**\n",
    " - Every student has to submit individual homeworks\n",
    " - Any collaboration, in the form of discussion, with other members of the class is permitted, as long as the names of the collaborating members are explicitly stated on top of the submitted homework.\n",
    " - Any overlap with another submission or material from Internet will be awarded an F.\n",
    "* **Late submission policy** - _No late submissions allowed_\n",
    "* **Submission Format** - Enter code for each problem in the appropriate cell below. You may use multiple cells for a single problem to improve readability."
   ]
  },
  {
   "cell_type": "markdown",
   "metadata": {
    "deletable": true,
    "editable": true
   },
   "source": [
    "### Problem 1 - Chicago Crime Dataset (50 points)\n",
    "\n",
    "Recall the Chicago Crime Data that was used in HW3. In this HW you are provided with 3 data files namely `chicago_crime_data_1.csv`, `chicago_crime_data_2.csv` and `primary_type_id.csv`.  The `chicago_crime_data_1.csv` contains data pertaing to the details of the crime and the `chicago_crime_data_2.csv` has information about the location and type. Both the datasets have the Crime ID as the primary indicator. \n",
    "\n",
    "The `primary_type_id.csv` contains the mapping between the primary crime type to their corresponding ID.\n",
    "\n",
    "Using pymysql import the chicago crime data. Check if the data format are correct. In this problem, you will be asked to create a single sql query that will result in the desired output. Wherever required, provide the algebraic expressions and expression trees.\n",
    "\n",
    "1. What is the average crime rate in each year? (Query)\n",
    "\n",
    "2. Subset the list of crimes that occured at SIDEWALK and an arrest has been made. (Query, algebraic expression and expression tree)\n",
    "\n",
    "3. In the resulting dataset, identify the crime type that resulted in most crimes per each district. (Query)\n",
    "\n",
    "4. List the crimes with FBI code = 26 and domestic? (Query, algebraic expression and expression tree) \n",
    "\n",
    "5. What is the increase in the number of crimes involving thefts (primary crime type) from 2016 to 2017? (Query)\n",
    "\n",
    "6. What are the 3 most common types of crimes in `001XX N PARKSIDE AVE`? Provide the corresponding crime counts for these crime types. (Query)\n",
    "\n",
    "7. Average days between the crime indcident date and last updated date. (Query)\n",
    "\n",
    "8. List the crimes that were committed on `4/30/2016` and updated on the same day. (Query, algebraic expression, expression tree)\n",
    "\n",
    "9. Subset the list of crimes in 2016 that were domestic and occured on a `STREET` and an arrest was made. (Query, algebraic expression, expression tree)\n",
    "\n",
    "10. Are there any crimes that involved `Telephone threats` that occured in Disctric `10` and FBI code `30`? (Query, algebraic expression, expression tree)\n",
    "\n",
    "\n",
    "Submit the SQL query as a .txt file. The algebraic expressions and expression tree can hand written and submitted through UBLearns as a single PDF file."
   ]
  },
  {
   "cell_type": "code",
   "execution_count": 1,
   "metadata": {
    "collapsed": true,
    "deletable": true,
    "editable": true
   },
   "outputs": [],
   "source": [
    "import pymysql\n",
    "config = {\n",
    "    'host':'127.0.0.1',\n",
    "    'port':3306,\n",
    "    'user':'root',\n",
    "    'password':'123456',\n",
    "    'db':'hw4',\n",
    "    }\n",
    "db = pymysql.connect(**config)\n",
    "cursor = db.cursor()"
   ]
  },
  {
   "cell_type": "code",
   "execution_count": 15,
   "metadata": {
    "collapsed": false,
    "deletable": true,
    "editable": true,
    "scrolled": true
   },
   "outputs": [
    {
     "name": "stdout",
     "output_type": "stream",
     "text": [
      "crime rate of 2016: 0.0992\n",
      "crime rate of 2017: 0.0624\n"
     ]
    }
   ],
   "source": [
    "#What is the average crime rate in each year? \n",
    "cursor.execute('select Year, count(*)/2700000 from crime_details group by year;')\n",
    "data = cursor.fetchall()\n",
    "print(f'crime rate of {data[0][0]}: {data[0][1]}')\n",
    "print(f'crime rate of {data[1][0]}: {data[1][1]}')"
   ]
  },
  {
   "cell_type": "code",
   "execution_count": 46,
   "metadata": {
    "collapsed": false,
    "deletable": true,
    "editable": true,
    "scrolled": true
   },
   "outputs": [
    {
     "name": "stdout",
     "output_type": "stream",
     "text": [
      "(('ARSON',), ('ASSAULT',), ('BATTERY',), ('BURGLARY',), ('CONCEALED CARRY LICENSE VIOLATION',), ('CRIM SEXUAL ASSAULT',), ('CRIMINAL DAMAGE',), ('CRIMINAL TRESPASS',), ('DECEPTIVE PRACTICE',), ('GAMBLING',), ('INTERFERENCE WITH PUBLIC OFFICER',), ('INTIMIDATION',), ('KIDNAPPING',), ('LIQUOR LAW VIOLATION',), ('MOTOR VEHICLE THEFT',), ('NARCOTICS',), ('OBSCENITY',), ('OFFENSE INVOLVING CHILDREN',), ('OTHER NARCOTIC VIOLATION',), ('OTHER OFFENSE',), ('PROSTITUTION',), ('PUBLIC INDECENCY',), ('PUBLIC PEACE VIOLATION',), ('ROBBERY',), ('SEX OFFENSE',), ('STALKING',), ('THEFT',), ('WEAPONS VIOLATION',))\n"
     ]
    }
   ],
   "source": [
    "#Subset the list of crimes that occured at SIDEWALK and an arrest has been made\n",
    "query2 = 'select Primary_Type from crime_details as d join crime_incidents as i \\\n",
    "on d.Crime_ID = i.Crime_ID join crime_types t on d.Primary_Type_ID = t.Primary_Type_ID \\\n",
    "where Arrest = \\'TRUE\\' and Location_Description = \\'SIDEWALK\\' group by Primary_Type'\n",
    "cursor.execute(query2)\n",
    "data = cursor.fetchall()\n",
    "print(data)"
   ]
  },
  {
   "cell_type": "code",
   "execution_count": 53,
   "metadata": {
    "collapsed": false,
    "deletable": true,
    "editable": true,
    "scrolled": true
   },
   "outputs": [
    {
     "name": "stdout",
     "output_type": "stream",
     "text": [
      "(('BATTERY', 1, 126), ('NARCOTICS', 2, 107), ('NARCOTICS', 3, 157), ('NARCOTICS', 4, 164), ('NARCOTICS', 5, 121), ('NARCOTICS', 6, 178), ('NARCOTICS', 7, 327), ('NARCOTICS', 8, 112), ('NARCOTICS', 9, 105), ('NARCOTICS', 10, 562), ('NARCOTICS', 11, 2305), ('NARCOTICS', 12, 135), ('BATTERY', 14, 65), ('NARCOTICS', 15, 838), ('BATTERY', 16, 45), ('BATTERY', 17, 47), ('BATTERY', 18, 140), ('BATTERY', 19, 169), ('BATTERY', 20, 41), ('BATTERY', 22, 46), ('BATTERY', 24, 43), ('NARCOTICS', 25, 177))\n"
     ]
    }
   ],
   "source": [
    "#In the resulting dataset, identify the crime type that resulted in most crimes per each district.\n",
    "cursor.execute('select * from \\\n",
    "(select Primary_Type,District,count(Primary_Type) c from crime_details as d join crime_incidents as i \\\n",
    "on d.Crime_ID = i.Crime_ID join crime_types t on d.Primary_Type_ID = t.Primary_Type_ID \\\n",
    "where Arrest = \\'TRUE\\' and Location_Description = \\'SIDEWALK\\' group by District,Primary_Type order by c desc) as m \\\n",
    "group by District having c = max(c)')\n",
    "data = cursor.fetchall()\n",
    "print(data)"
   ]
  },
  {
   "cell_type": "code",
   "execution_count": 32,
   "metadata": {
    "collapsed": false,
    "deletable": true,
    "editable": true
   },
   "outputs": [
    {
     "name": "stdout",
     "output_type": "stream",
     "text": [
      "(('CRIMINAL TRESPASS',), ('HUMAN TRAFFICKING',), ('INTERFERENCE WITH PUBLIC OFFICER',), ('INTIMIDATION',), ('KIDNAPPING',), ('NON-CRIMINAL (SUBJECT SPECIFIED)',), ('OFFENSE INVOLVING CHILDREN',), ('OTHER OFFENSE',), ('PUBLIC PEACE VIOLATION',), ('STALKING',))\n"
     ]
    }
   ],
   "source": [
    "#List the crimes with FBI code = 26 and domestic?\n",
    "cursor.execute('select Primary_Type from crime_details as d join crime_incidents as i \\\n",
    "on d.Crime_ID = i.Crime_ID join crime_types as t \\\n",
    "on d.Primary_Type_ID = t.Primary_Type_ID where \\\n",
    "FBI_Code like \\'%26%\\' and Domestic = \\'TRUE\\' group by Primary_Type;')\n",
    "data = cursor.fetchall()\n",
    "print(data)"
   ]
  },
  {
   "cell_type": "code",
   "execution_count": 34,
   "metadata": {
    "collapsed": false,
    "deletable": true,
    "editable": true
   },
   "outputs": [
    {
     "name": "stdout",
     "output_type": "stream",
     "text": [
      "-21800\n"
     ]
    }
   ],
   "source": [
    "#What is the increase in the number of crimes involving thefts (primary crime type) from 2016 to 2017?\n",
    "theft = '(select Year, count(*) as c from crime_details as d join crime_types  as \\\n",
    " c on d.Primary_Type_ID = c.Primary_Type_ID where c.Primary_Type = \\'THEFT\\' group by Year;)'\n",
    "\n",
    "query = f'select n.c - m.c from {theft} as m,\\\n",
    " {theft} as n \\\n",
    " where m.Year = 2016 and n.Year = 2017'\n",
    "cursor.execute(query)\n",
    "data = cursor.fetchall()\n",
    "print(data[0][0])"
   ]
  },
  {
   "cell_type": "code",
   "execution_count": 59,
   "metadata": {
    "collapsed": false,
    "deletable": true,
    "editable": true
   },
   "outputs": [
    {
     "name": "stdout",
     "output_type": "stream",
     "text": [
      "(('BATTERY', 20), ('THEFT', 15), ('ASSAULT', 14))\n"
     ]
    }
   ],
   "source": [
    "#What are the 3 most common types of crimes in 001XX N PARKSIDE AVE? Provide the corresponding crime counts for these crime types.\n",
    "query = 'SELECT Primary_Type,count(*) as c FROM \\\n",
    "crime_details d join crime_types t \\\n",
    "on d.Primary_Type_ID = t.Primary_Type_ID \\\n",
    "where block = \\'001XX N PARKSIDE AVE\\' \\\n",
    "group by Primary_Type order by c desc \\\n",
    "limit 3;'\n",
    "cursor.execute(query)\n",
    "data = cursor.fetchall()\n",
    "print(data)"
   ]
  },
  {
   "cell_type": "code",
   "execution_count": 60,
   "metadata": {
    "collapsed": false,
    "deletable": true,
    "editable": true
   },
   "outputs": [
    {
     "name": "stdout",
     "output_type": "stream",
     "text": [
      "((Decimal('14.1834'),),)\n"
     ]
    }
   ],
   "source": [
    "#Average days between the crime indcident date and last updated date.\n",
    "query = 'SELECT avg(datediff(d.Updated_On,i.Date)) \\\n",
    "FROM crime_details d join crime_incidents i \\\n",
    "on d.Crime_ID = i.Crime_ID;'\n",
    "cursor.execute(query)\n",
    "data = cursor.fetchall()\n",
    "print(data)"
   ]
  },
  {
   "cell_type": "code",
   "execution_count": 65,
   "metadata": {
    "collapsed": false,
    "deletable": true,
    "editable": true
   },
   "outputs": [
    {
     "name": "stdout",
     "output_type": "stream",
     "text": [
      "()\n"
     ]
    }
   ],
   "source": [
    "#List the crimes that were committed on 4/30/2016 and updated on the same day.\n",
    "query = 'SELECT d.* FROM crime_incidents as i join crime_details as d \\\n",
    "on i.Crime_ID = d.Crime_ID \\\n",
    "where date(i.date) = \\'2016-4-30\\' and date(d.Updated_On) = \\'2016-4-30\\';'\n",
    "cursor.execute(query)\n",
    "data = cursor.fetchall()\n",
    "print(data)"
   ]
  },
  {
   "cell_type": "code",
   "execution_count": 36,
   "metadata": {
    "collapsed": false,
    "deletable": true,
    "editable": true
   },
   "outputs": [
    {
     "name": "stdout",
     "output_type": "stream",
     "text": [
      "(('ASSAULT',), ('BATTERY',), ('CRIM SEXUAL ASSAULT',), ('CRIMINAL DAMAGE',), ('CRIMINAL TRESPASS',), ('HOMICIDE',), ('INTIMIDATION',), ('KIDNAPPING',), ('MOTOR VEHICLE THEFT',), ('NARCOTICS',), ('OFFENSE INVOLVING CHILDREN',), ('OTHER OFFENSE',), ('PUBLIC PEACE VIOLATION',), ('ROBBERY',), ('STALKING',), ('THEFT',), ('WEAPONS VIOLATION',))\n"
     ]
    }
   ],
   "source": [
    "#Subset the list of crimes in 2016 that were domestic and occured on a STREET and an arrest was made.\n",
    "query = 'SELECT Primary_Type FROM crime_incidents i join crime_details d on i.Crime_ID = d.Crime_ID \\\n",
    "join crime_types t on d.Primary_Type_ID = t.Primary_Type_ID \\\n",
    "where Arrest = \\'TRUE\\' and Domestic = \\'TRUE\\' \\\n",
    "and Location_Description = \\'STREET\\' and year(date) = \\'2016\\' \\\n",
    "group by Primary_Type;'\n",
    "\n",
    "cursor.execute(query)\n",
    "data = cursor.fetchall()\n",
    "print(data)"
   ]
  },
  {
   "cell_type": "code",
   "execution_count": 35,
   "metadata": {
    "collapsed": false,
    "deletable": true,
    "editable": true
   },
   "outputs": [
    {
     "name": "stdout",
     "output_type": "stream",
     "text": [
      "()\n"
     ]
    }
   ],
   "source": [
    "#Are there any crimes that involved Telephone threats that occured in Disctric 10 and FBI code 30?\n",
    "query = 'SELECT * FROM crime_incidents i join crime_details d \\\n",
    "on i.Crime_ID = d.Crime_ID \\\n",
    "where Description = \\'TELEPHONE THREAT\\' \\\n",
    "and District = 10 \\\n",
    "and FBI_Code like \\'%30%\\';'\n",
    "cursor.execute(query)\n",
    "data = cursor.fetchall()\n",
    "print(data)"
   ]
  },
  {
   "cell_type": "code",
   "execution_count": 4,
   "metadata": {
    "collapsed": true,
    "deletable": true,
    "editable": true
   },
   "outputs": [],
   "source": [
    "db.close()"
   ]
  }
 ],
 "metadata": {
  "kernelspec": {
   "display_name": "Python 3",
   "language": "python",
   "name": "python3"
  },
  "language_info": {
   "codemirror_mode": {
    "name": "ipython",
    "version": 3
   },
   "file_extension": ".py",
   "mimetype": "text/x-python",
   "name": "python",
   "nbconvert_exporter": "python",
   "pygments_lexer": "ipython3",
   "version": "3.5.4"
  }
 },
 "nbformat": 4,
 "nbformat_minor": 2
}
