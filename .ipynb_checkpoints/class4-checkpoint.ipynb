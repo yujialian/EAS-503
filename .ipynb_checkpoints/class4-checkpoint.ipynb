{
 "cells": [
  {
   "cell_type": "markdown",
   "metadata": {},
   "source": [
    "\\n: --New line\n",
    "\n",
    "Immutability: A general concept, object of certain type in python are immutable whereas others a mutable\n",
    "\n",
    "Multable: list\n",
    "Immutable: String Tuple\n",
    "\n",
    "\n",
    "For string:\n",
    "a = 'this'\n",
    "[2] = 'n' TypeError: 'str' object does not support item assignment\n",
    "\n",
    "Tuple:\n",
    "Another way to define sequences of arbitrary objects in python\n",
    "print(s[0:2]) create a new string to do this\n"
   ]
  },
  {
   "cell_type": "code",
   "execution_count": 2,
   "metadata": {
    "collapsed": false
   },
   "outputs": [
    {
     "name": "stdout",
     "output_type": "stream",
     "text": [
      "<class 'tuple'>\n"
     ]
    }
   ],
   "source": [
    "t= (3,5,7,3,2,45,\"esa\", [3,42])\n",
    "print(type(t))\n",
    "del(t[-1][0])# delete first element list([3, 42]) in tuple, which can be modified\n",
    "#immutable:\n",
    "#Can not delete and modify something\n"
   ]
  },
  {
   "cell_type": "code",
   "execution_count": null,
   "metadata": {
    "collapsed": true
   },
   "outputs": [],
   "source": []
  }
 ],
 "metadata": {
  "kernelspec": {
   "display_name": "Python 3",
   "language": "python",
   "name": "python3"
  },
  "language_info": {
   "codemirror_mode": {
    "name": "ipython",
    "version": 3
   },
   "file_extension": ".py",
   "mimetype": "text/x-python",
   "name": "python",
   "nbconvert_exporter": "python",
   "pygments_lexer": "ipython3",
   "version": "3.5.3"
  }
 },
 "nbformat": 4,
 "nbformat_minor": 2
}
