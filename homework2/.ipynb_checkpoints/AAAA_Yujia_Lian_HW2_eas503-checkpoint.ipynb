{
 "cells": [
  {
   "cell_type": "markdown",
   "metadata": {
    "deletable": true,
    "editable": true
   },
   "source": [
    "## EAS 503 Homework 2 Submission\n",
    "Name - Yujia Lian\n",
    "\n",
    "Problem 2 discussed with Mingda Jia\n",
    "\n",
    "**Make sure that you rename the notebook file to *replacewithubitname*_eas503_hw2.ipynb**\n",
    "\n",
    "\n",
    "### Submission Details \n",
    "* **Due Date** - October 17, 2017 by 11.59 PM PST. All assignments have to be submitted using UBLearns.\n",
    "* **Number of Problems** - 4 \n",
    "* **Maximum points** - 50\n",
    "* **Collaboration policy**\n",
    " - Every student has to submit individual homeworks\n",
    " - Any collaboration, in the form of discussion, with other members of the class is permitted, as long as the names of the collaborating members are explicitly stated on top of the submitted homework.\n",
    " - Any overlap with another submission or material from Internet will be awarded an F.\n",
    "* **Late submission policy** - _No late submissions allowed_\n",
    "* **Submission Format** - Enter code for each problem in the appropriate cell below. You may use multiple cells for a single problem to improve readability."
   ]
  },
  {
   "cell_type": "markdown",
   "metadata": {
    "deletable": true,
    "editable": true
   },
   "source": [
    "### Problem 1 - Inheritance and Encapsulation (10 points)\n",
    "\n",
    "Consider a class of credit card accounts. A credit card account can have 2 types of credit cards:\n",
    "1. Primary card  \n",
    "2. Supplement card (Sup-card)\n",
    "\n",
    "A primary account is the main account to which multiple sup-cards are linked. The primary credit card holder will be responsible for the bill payments for all the transactions on the primary card itself as well as all its supplimentary cards. Assume that each sup-card has the same individual credit limit as the primary credit card. Any transaction over the permitted account credit limit must be denied i.e. if the total account balance exceeds the credit limit on the primary account, any transaction, on all the cards linked to the account (primary or sup-card), will be denied.\n",
    "\n",
    "For this problem, design a class `PrimaryCard` with all the account details and primary credit card details included in the class. Construct a sub-class of supplementary card holder, `SupplementaryCard`, linked to a primary credit card account. Ensure that the sensitive details of all the accounts (credit card numbers, balance, account limit etc.) must saved and accessed securely. \n",
    "\n",
    "Use the `Account_details.txt` file to access the account details for 15 credit cards. The transaction details for the month of october are provided in `transaction.txt` file. Design an algorithm to update the account balance on all the accounts and plot the final account balance on each day for the month of october."
   ]
  },
  {
   "cell_type": "code",
   "execution_count": 581,
   "metadata": {
    "collapsed": false,
    "deletable": true,
    "editable": true
   },
   "outputs": [],
   "source": [
    "\n",
    "class PrimaryCard:\n",
    "    Balance = 0\n",
    "    def __init__(self, Card_ID, Card_Number, Account_Number, Primary_or_Sub, Account_Limit, Current_Balance_within_card):\n",
    "        self.__Card_ID = Card_ID\n",
    "        self.__Card_Number = Card_Number\n",
    "        self.__Account_Number = Account_Number\n",
    "        self.__Account_Limit = Account_Limit\n",
    "        self.__Primary_or_Sub = Primary_or_Sub\n",
    "        self.__Current_Balance_within_Primary_card = Current_Balance_within_card\n",
    "        self.Balance = Current_Balance_within_card\n",
    "        \n",
    "    def Get_Primary_or_Sub(self):\n",
    "        return self.__Primary_or_Sub\n",
    "    def Get_Account_Number(self):\n",
    "        return self.__Account_Number\n",
    "    def Set_Account_Balance(self, sub_balance):\n",
    "        self.Balance = self.Balance + sub_balance\n",
    "        \n",
    "    #Getter and Setter for the account balance\n",
    "    def Get_Account_Balance(self):\n",
    "        return self.Balance\n",
    "    def Get_Account_Limit(self):\n",
    "        return self.__Account_Limit\n",
    "    \n",
    "    #Getter and setter for the card balance\n",
    "    def Set_Card_Balance(self, deposit):\n",
    "        self.__Current_Balance_within_Primary_card = self.__Current_Balance_within_Primary_card + deposit\n",
    "    def Get_Card_Balance(self, deposit):\n",
    "        return self.__Current_Balance_within_Primary_card\n",
    "    \n",
    "    #Deposit the money into bank account\n",
    "    def Transactions(self, money):\n",
    "        Balance = self.Get_Account_Balance() + money\n",
    "        if Balance > self.Get_Account_Limit():\n",
    "            print(\"You reach this month's deposit upper limit for account: \", self.Get_Account_Number())\n",
    "            return\n",
    "        self.Set_Account_Balance(money)\n",
    "        self.Set_Card_Balance(money)"
   ]
  },
  {
   "cell_type": "code",
   "execution_count": 582,
   "metadata": {
    "collapsed": false,
    "deletable": true,
    "editable": true
   },
   "outputs": [],
   "source": [
    "\n",
    "class SupplementaryCard:\n",
    "    def __init__(self, Card_ID, Card_Number, Account_Number, Primary_or_Sub, Card_Limit, Current_Balance_within_Sub_card,\n",
    "                 Father_Card):\n",
    "        self.__Card_ID = Card_ID\n",
    "        self.__Sub_Card_Number = Card_Number\n",
    "        self.__Sub_Account_Number = Account_Number\n",
    "        self.__Primary_or_Sub = Primary_or_Sub\n",
    "        self.__Card_Limit = Card_Limit\n",
    "        self.__Current_Balance_within_Sub_card = Current_Balance_within_Sub_card\n",
    "        self.__Father_card = Father_Card\n",
    "        \n",
    "    #Get card information\n",
    "    def Get_Primary_or_Sub(self):\n",
    "        return self.__Primary_or_Sub\n",
    "    def Get_Account_Number(self):\n",
    "        return self.__Sub_Account_Number\n",
    "    \n",
    "    #Getter and setter for the account limit\n",
    "    def Get_Account_Limit(self):\n",
    "        return self.__Card_Limit\n",
    "    \n",
    "    #Getter and seter for account balance\n",
    "    def Get_Account_Balance(self):\n",
    "        return self.__Father_card.Get_Account_Balance()\n",
    "    def Set_Account_Balance(self, deposit):\n",
    "        self.__Father_card.Set_Account_Balance(deposit)\n",
    "        \n",
    "    #Getter and setter for the card balance\n",
    "    def Set_Card_Balance(self,money):\n",
    "        self.__Current_Balance_within_Sub_card =self.__Current_Balance_within_Sub_card + money\n",
    "        \n",
    "    def Get_Card_Balance(self):\n",
    "        return self.__Current_Balance_within_Sub_card\n",
    "    \n",
    "    #Deposit\n",
    "    def Transactions(self, money):\n",
    "        total_balance = self.Get_Account_Balance() + money\n",
    "        if total_balance > self.Get_Account_Limit():\n",
    "            print(\"You excess the account limit for this account!\", self.Get_Account_Number())\n",
    "            return\n",
    "        else:\n",
    "            self.Set_Account_Balance(money)\n",
    "            self.Set_Card_Balance(money)\n",
    "        "
   ]
  },
  {
   "cell_type": "code",
   "execution_count": 583,
   "metadata": {
    "collapsed": false,
    "deletable": true,
    "editable": true,
    "scrolled": true
   },
   "outputs": [
    {
     "name": "stdout",
     "output_type": "stream",
     "text": [
      "You excess the account limit for this account! 4952\n",
      "You reach this month's deposit upper limit for account:  4952\n",
      "You excess the account limit for this account! 4952\n",
      "You reach this month's deposit upper limit for account:  4952\n",
      "You excess the account limit for this account! 4952\n",
      "You excess the account limit for this account! 4952\n",
      "You excess the account limit for this account! 4952\n",
      "You excess the account limit for this account! 4952\n",
      "You reach this month's deposit upper limit for account:  4952\n",
      "You reach this month's deposit upper limit for account:  4952\n",
      "You excess the account limit for this account! 4952\n",
      "You reach this month's deposit upper limit for account:  4952\n",
      "You excess the account limit for this account! 4952\n",
      "You excess the account limit for this account! 4952\n",
      "You excess the account limit for this account! 4952\n",
      "You excess the account limit for this account! 4952\n"
     ]
    },
    {
     "data": {
      "image/png": "[encoded data removed]",
      "text/plain": [
       "<matplotlib.figure.Figure at 0x1046430f0>"
      ]
     },
     "metadata": {},
     "output_type": "display_data"
    }
   ],
   "source": [
    "import matplotlib.pyplot as plt\n",
    "import numpy as np\n",
    "primary_accounts = {}\n",
    "accounts = {}\n",
    "Accounts_Details = np.genfromtxt('./Account_details.txt', dtype=None, names=('ID','Card_Number', 'Account_Number', 'Primary_Sub', 'Card_Limit', 'Current_balance'),delimiter='\\t', skip_header=1, usecols=(0,1,2,3,4,5), unpack=True)\n",
    "for ID in Accounts_Details['ID']:\n",
    "    if Accounts_Details['Primary_Sub'][ID-1] == b'P':\n",
    "        primary_account = PrimaryCard(Accounts_Details['ID'][ID-1], Accounts_Details['Card_Number'][ID-1], Accounts_Details['Account_Number'][ID-1], 'P', Accounts_Details['Card_Limit'][ID-1], Accounts_Details['Current_balance'][ID-1])\n",
    "        primary_accounts[primary_account.Get_Account_Number()] = primary_account\n",
    "        accounts[ID] = primary_account\n",
    "for ID in Accounts_Details['ID']:\n",
    "    if Accounts_Details['Primary_Sub'][ID-1] == b'S':\n",
    "        Account_Number = Accounts_Details['Account_Number'][ID-1]\n",
    "        Primary_Card = primary_accounts[Account_Number]\n",
    "        accounts[ID] = SupplementaryCard(Accounts_Details['ID'][ID-1], Accounts_Details['Card_Number'][ID-1], Accounts_Details['Account_Number'][ID-1], 'S', Accounts_Details['Card_Limit'][ID-1], Accounts_Details['Current_balance'][ID-1],Primary_Card)\n",
    "        accounts[ID].Set_Account_Balance(accounts[ID].Get_Card_Balance())\n",
    "\n",
    "transaction = np.genfromtxt('./transaction.txt', dtype=None, names=('ID','Transaction_Amount', 'Date'),\n",
    "                            delimiter='\\t', skip_header=1, usecols=(0,1,2), unpack=True)\n",
    "record_date = {}\n",
    "for record in transaction:\n",
    "    finish_date = record['Date']\n",
    "    if record['Date'] not in record_date.keys():\n",
    "        record_date[record['Date']] = 1\n",
    "    else:\n",
    "        record_date[record['Date']] = record_date[record['Date']] + 1\n",
    "List_Of_Lists = []\n",
    "Current_List = []\n",
    "for record in transaction:\n",
    "    if record_date[record['Date']] != 0:\n",
    "        accounts[record['ID']].Transactions(record['Transaction_Amount'])\n",
    "        record_date[record['Date']] = record_date[record['Date']] - 1\n",
    "    if record_date[record['Date']] == 0:\n",
    "        for i in range(1, len(accounts) + 1):\n",
    "            if accounts[i].Get_Primary_or_Sub() == 'P':\n",
    "                Current_List.append(accounts[i].Get_Account_Balance())\n",
    "        List_Of_Lists.append(Current_List)\n",
    "        Current_List = []\n",
    "\n",
    "for i in range(len(List_Of_Lists[0])):\n",
    "    current_account_balance = []\n",
    "    for j in range(len(List_Of_Lists)):\n",
    "        current_account_balance.append(List_Of_Lists[j][i])\n",
    "    current_account_balance = np.asarray(current_account_balance)\n",
    "    days = np.arange(1,31)\n",
    "    plt.plot(days, current_account_balance, )\n",
    "    plt.xlabel('Days')\n",
    "    plt.ylabel('Balance')\n",
    "plt.show()"
   ]
  },
  {
   "cell_type": "markdown",
   "metadata": {
    "deletable": true,
    "editable": true
   },
   "source": [
    "### Problem 2 - Polynomials (15 Points)\n",
    "\n",
    "Consider a general form of an nth order polynomial. You are asked to implement a polynomial of arbitrary degree using classes in python. For instance consider the polynomial:\n",
    "$$4x^3 + 3x^2 + 7 = 0$$\n",
    "\n",
    "For this implements the following steps:\n",
    "1. Implement a class that represents a single term. \n",
    "2. Implement a class for the entire polynomial. \n",
    "3. Implement an operator ($*$) to multiply two single terms, a term and a polynomial, and two polynomials. (__Note__: _you can overload the $*$ operator in Python by defining a method called ``__mul__(self,other):`` and make it mutiply the ``self`` object with the ``other`` object)\n",
    "4. Implement an operator(s) that enables addition of a term and a polynomial and/or two polynomials. (__Note__: _you can overload the  $+$  operator in Python by defining a method called ``__add__(self,other)``: and make it add the self object with the other object)\n",
    "5. Implement the following two internal methods within ``Polynomial`` class:\n",
    "    - ``order()``, which returns the order of the polynomial (as an ``int``).\n",
    "    - ``solve()``, which returns solutions for the polynomial (a ``list`` of roots). Only do it for quadratic polynomials, and raise an exception for higher order polynomials.\n",
    "6. Implement an external function that plots the polynomial on a domain of [-10,10] (you will have to use _matplotlib_ rountines for this).\n",
    "7. Include a destructor function for the polynomial class.\n",
    "\n",
    "Use the above class definitions and operators to generate the solutions (wherever needed) for the following set of polynomials:\n",
    "\n",
    "1. $x^2 -7x +3=0$\n",
    "2. $x^3 -8x +5=0$\n",
    "3. Consider the following three polynomials: $f(x)=x,$ $g(x)=x^2$ and $p(x)=9x^2 +2$. Plot the function $f(x)-g(x)*p(x)=0$ by taking $f,g,p$ as input functions. For this, use the ``__mul__(self,other)`` and ``__add__(self,other)`` methods.\n",
    "\n",
    "Note: Here you are basically asked to define the basis for the vector space of real polynomials and define all the vector operations."
   ]
  },
  {
   "cell_type": "code",
   "execution_count": 584,
   "metadata": {
    "collapsed": true,
    "deletable": true,
    "editable": true
   },
   "outputs": [],
   "source": [
    "#Enter your solution here\n",
    "import numpy as np\n",
    "import math\n",
    "class Monomials:\n",
    "    def __init__(self, coefficient, power):\n",
    "        self.coefficient = coefficient\n",
    "        self.power = power\n",
    "        \n",
    "    def value(self, x):\n",
    "        return self.coefficient * math.pow(int(x),int(self.power))\n",
    "    \n",
    "    def __add__(self, other):\n",
    "        vector = other.vector\n",
    "        vector.append(Monomials(self.coefficient,self.power))\n",
    "        return Polynomial(vector)\n",
    "    \n",
    "    def __mul__(self, other):\n",
    "        if(other.__class__.__name__ == 'Polynomial'):\n",
    "            for i in other.vector:\n",
    "                i.coefficient = i.coefficient * self.coefficient\n",
    "                i.power = i.power + self.power\n",
    "            return other\n",
    "        \n",
    "        else:\n",
    "            self.coefficient = self.coefficient * other.coefficient\n",
    "            self.power = self.power + other.power\n",
    "            return self"
   ]
  },
  {
   "cell_type": "code",
   "execution_count": 585,
   "metadata": {
    "collapsed": true,
    "deletable": true,
    "editable": true
   },
   "outputs": [],
   "source": [
    "import numpy as np\n",
    "class Polynomial:\n",
    "    def __init__(self, formula):\n",
    "        self.vector = formula\n",
    "\n",
    "    def  __add__(self,other):\n",
    "        temp = self.vector + other.vector\n",
    "        return Polynomial(temp)\n",
    "\n",
    "    \n",
    "    def __mul__(self,other):\n",
    "        temp = []\n",
    "        for i in self.vector:\n",
    "            for j in other.vector:\n",
    "                temp.append(terms(i.coefficient * j.coefficient, i.power + j.power))\n",
    "        return Polynomial(temp)\n",
    "    def solve(self):\n",
    "        if(self.order() > 2):\n",
    "            raise NameError(\"Only solve quadratic polynomials! invalid for higher order polynomials!!!\")\n",
    "        else:\n",
    "            self.Simplification()\n",
    "            for i in self.vector:\n",
    "                if(i.power == 2):\n",
    "                    two = i.coefficient\n",
    "                if(i.power == 1):\n",
    "                    one = i.coefficient\n",
    "                if(i.power == 0):\n",
    "                    zero = i.coefficient\n",
    "            if(not one):\n",
    "                one = 0\n",
    "            if(not zero):\n",
    "                zero = 0\n",
    "            print(two,one,zero)\n",
    "            return np.roots([two, one, zero])\n",
    "        \n",
    "    def order(self):\n",
    "        ord = 0\n",
    "        for i in self.vector:\n",
    "            if(i.power > ord):\n",
    "                ord = i.power\n",
    "        return ord\n",
    "    def Simplification(self):\n",
    "        order = {}\n",
    "        for i in self.vector:\n",
    "            try:\n",
    "                order[i.power].append(i)\n",
    "            except KeyError:\n",
    "                order[i.power] = [i]\n",
    "        for i in order.values():\n",
    "            for j in range(len(i)-1):\n",
    "                i[j+1].coefficient += i[j].coefficient\n",
    "                i.pop(j)\n",
    "        vector = []\n",
    "        for i in order.values():\n",
    "            vector.append(i[0])\n",
    "        self.vector = vector\n",
    "    def value(self,x):\n",
    "        val = 0\n",
    "        for i in self.vector:\n",
    "            val += i.value(x)\n",
    "        return val"
   ]
  },
  {
   "cell_type": "code",
   "execution_count": 586,
   "metadata": {
    "collapsed": true,
    "deletable": true,
    "editable": true
   },
   "outputs": [],
   "source": [
    "import matplotlib.pyplot as plt\n",
    "%matplotlib inline \n",
    "def plot(P):\n",
    "    x = np.arange(-10, 10, 1)\n",
    "    y = []\n",
    "    for i in x:\n",
    "        y.append(P.value(i))\n",
    "    plt.plot(x,y)"
   ]
  },
  {
   "cell_type": "code",
   "execution_count": 587,
   "metadata": {
    "collapsed": true,
    "deletable": true,
    "editable": true
   },
   "outputs": [],
   "source": [
    "import re\n",
    "def Find(item):\n",
    "    Number_Only = re.match(r'^(\\+|\\-)\\d*$', item, flags = 0)\n",
    "    Begin_Number = re.match(r'^\\d*$', item, flags = 0)\n",
    "    if(Number_Only):\n",
    "        coefficient = Number_Only.group()\n",
    "        if('-' in coefficient):\n",
    "            coefficients = 0-int(coefficient[1:])\n",
    "        elif('+' in coefficient):\n",
    "            coefficients = int(coefficient[1:])\n",
    "        power = 0\n",
    "        term = terms(coefficients, power)\n",
    "        return term\n",
    "    elif(Begin_Number):\n",
    "        coefficient = int(Begin_Number.group())\n",
    "        power = 0\n",
    "        return terms(coefficient, power)\n",
    "    else:\n",
    "        S_Coefficient = re.match(r'^.\\d*(?=x)', item, flags = 0)\n",
    "        S_Power = re.search(r'(?<=x)\\d*.$', item, flags = 0)\n",
    "        if(S_Coefficient):\n",
    "            if('-' in S_Coefficient.group()):\n",
    "                coefficient = 0-float(S_Coefficient.group()[1:])\n",
    "            elif('+' in S_Coefficient.group()):\n",
    "                coefficient = float(S_Coefficient.group()[1:])\n",
    "            else:\n",
    "                coefficient = float(S_Coefficient.group())\n",
    "        else:\n",
    "            coefficient = 1\n",
    "        if(S_Power):\n",
    "            if('-' in S_Power.group()):\n",
    "                power = 0-float(S_Power.group())\n",
    "            else:\n",
    "                power = float(S_Power.group())\n",
    "        else:\n",
    "            power = 1\n",
    "        term = terms(coefficient, power)\n",
    "        return term"
   ]
  },
  {
   "cell_type": "code",
   "execution_count": 588,
   "metadata": {
    "collapsed": true,
    "deletable": true,
    "editable": true
   },
   "outputs": [],
   "source": [
    "def Formula(formula):\n",
    "    items = formula.split(' ')\n",
    "    f = []\n",
    "    for i in items:\n",
    "        f.append(Find(i))\n",
    "    return Polynomial(f)"
   ]
  },
  {
   "cell_type": "code",
   "execution_count": 589,
   "metadata": {
    "collapsed": false,
    "deletable": true,
    "editable": true
   },
   "outputs": [
    {
     "name": "stdout",
     "output_type": "stream",
     "text": [
      "1 -7.0 3\n"
     ]
    },
    {
     "data": {
      "text/plain": [
       "array([ 6.54138127,  0.45861873])"
      ]
     },
     "execution_count": 589,
     "metadata": {},
     "output_type": "execute_result"
    }
   ],
   "source": [
    "#Problem 1\n",
    "f1 = Formula('x2 -7x +3')\n",
    "f1.solve()"
   ]
  },
  {
   "cell_type": "code",
   "execution_count": 590,
   "metadata": {
    "collapsed": false,
    "deletable": true,
    "editable": true,
    "scrolled": false
   },
   "outputs": [
    {
     "ename": "NameError",
     "evalue": "Only solve quadratic polynomials! invalid for higher order polynomials!!!",
     "output_type": "error",
     "traceback": [
      "\u001b[0;31m---------------------------------------------------------------------------\u001b[0m",
      "\u001b[0;31mNameError\u001b[0m                                 Traceback (most recent call last)",
      "\u001b[0;32m<ipython-input-590-84625e6d0a6e>\u001b[0m in \u001b[0;36m<module>\u001b[0;34m()\u001b[0m\n\u001b[1;32m      1\u001b[0m \u001b[0;31m#Problem 2\u001b[0m\u001b[0;34m\u001b[0m\u001b[0;34m\u001b[0m\u001b[0m\n\u001b[1;32m      2\u001b[0m \u001b[0mf1\u001b[0m \u001b[0;34m=\u001b[0m \u001b[0mFormula\u001b[0m\u001b[0;34m(\u001b[0m\u001b[0;34m'x3 -8x +5'\u001b[0m\u001b[0;34m)\u001b[0m\u001b[0;34m\u001b[0m\u001b[0m\n\u001b[0;32m----> 3\u001b[0;31m \u001b[0mf1\u001b[0m\u001b[0;34m.\u001b[0m\u001b[0msolve\u001b[0m\u001b[0;34m(\u001b[0m\u001b[0;34m)\u001b[0m\u001b[0;34m\u001b[0m\u001b[0m\n\u001b[0m",
      "\u001b[0;32m<ipython-input-585-16dd32ba7922>\u001b[0m in \u001b[0;36msolve\u001b[0;34m(self)\u001b[0m\n\u001b[1;32m     17\u001b[0m     \u001b[0;32mdef\u001b[0m \u001b[0msolve\u001b[0m\u001b[0;34m(\u001b[0m\u001b[0mself\u001b[0m\u001b[0;34m)\u001b[0m\u001b[0;34m:\u001b[0m\u001b[0;34m\u001b[0m\u001b[0m\n\u001b[1;32m     18\u001b[0m         \u001b[0;32mif\u001b[0m\u001b[0;34m(\u001b[0m\u001b[0mself\u001b[0m\u001b[0;34m.\u001b[0m\u001b[0morder\u001b[0m\u001b[0;34m(\u001b[0m\u001b[0;34m)\u001b[0m \u001b[0;34m>\u001b[0m \u001b[0;36m2\u001b[0m\u001b[0;34m)\u001b[0m\u001b[0;34m:\u001b[0m\u001b[0;34m\u001b[0m\u001b[0m\n\u001b[0;32m---> 19\u001b[0;31m             \u001b[0;32mraise\u001b[0m \u001b[0mNameError\u001b[0m\u001b[0;34m(\u001b[0m\u001b[0;34m\"Only solve quadratic polynomials! invalid for higher order polynomials!!!\"\u001b[0m\u001b[0;34m)\u001b[0m\u001b[0;34m\u001b[0m\u001b[0m\n\u001b[0m\u001b[1;32m     20\u001b[0m         \u001b[0;32melse\u001b[0m\u001b[0;34m:\u001b[0m\u001b[0;34m\u001b[0m\u001b[0m\n\u001b[1;32m     21\u001b[0m             \u001b[0mself\u001b[0m\u001b[0;34m.\u001b[0m\u001b[0mSimplification\u001b[0m\u001b[0;34m(\u001b[0m\u001b[0;34m)\u001b[0m\u001b[0;34m\u001b[0m\u001b[0m\n",
      "\u001b[0;31mNameError\u001b[0m: Only solve quadratic polynomials! invalid for higher order polynomials!!!"
     ]
    }
   ],
   "source": [
    "#Problem 2\n",
    "f1 = Formula('x3 -8x +5')\n",
    "f1.solve()"
   ]
  },
  {
   "cell_type": "code",
   "execution_count": 591,
   "metadata": {
    "collapsed": false,
    "deletable": true,
    "editable": true
   },
   "outputs": [
    {
     "data": {
      "image/png": "[encoded data removed]",
      "text/plain": [
       "<matplotlib.figure.Figure at 0x10446b5f8>"
      ]
     },
     "metadata": {},
     "output_type": "display_data"
    }
   ],
   "source": [
    "#Problem 3.\n",
    "fx = readformula('x')\n",
    "gx = readformula('x2')\n",
    "px = readformula('9x2 +2')\n",
    "minus = Monomials(-1,0)\n",
    "results = fx.__add__(minus.__mul__(gx.__mul__(px)))\n",
    "plot(results)"
   ]
  },
  {
   "cell_type": "markdown",
   "metadata": {
    "deletable": true,
    "editable": true
   },
   "source": [
    "### Problem 3 - Random Walk (15 Points)\n",
    "\n",
    "Imagine you are standing at (0,0) on the real plane. At every time step, assume you either take a unit step in one of the four directions (right, left, up, down) with equal probability. This means that after one time step, your new location can be (1,0), (-1,0), (0,1) or (0,-1) with equal probability.\n",
    "\n",
    "For this, create a class `Walker`. The class needs to store the following information:\n",
    "- current position of the walker, where the position is a 2-tuple. You can initialize it to (0,0)\n",
    "- path taken so far by the walker (initially this list will only contain the current position)\n",
    "- method called ``getDirection()`` that determines the direction for the next step (one out of four possible directions: right, left, up, down). To determine the direction, sample a random value from the set {1,2,3,4} using `np.random.randint(0,N)` and assign each outcome to a unit step movement in a particular direction.\n",
    "- method called ``walk()`` which changes the current position of the walker in a specifed direction. Make sure to update the path field to incorporate the next position.\n",
    "\n",
    "After implementing the `Walker` class, you need to conduct the following experiment.\n",
    "Suppose you want to figure out, how many steps will it take for the walker to go outside a pre-defined perimeter (centered at (0,0)). You will have simulate a random walk and keep checking the current position to figure that out. \n",
    "\n",
    "Write a code to run the following simulation:\n",
    "Starting from (0,0), have your walker randomly walk around (using the defined ``walk()`` method), until it steps out of a rectangular area with vertices as: (-4,-4), (-4,4), (4,4), (4,-4). Count the number of steps taken before the walker leaves the area. Repeat the simulation 5 times and report the average number of steps taken by the walker before it exits the area.\n",
    "\n",
    "Plot the path taken in each of the 5 simulation runs (you should all five walks in one graph using different colors)."
   ]
  },
  {
   "cell_type": "code",
   "execution_count": 592,
   "metadata": {
    "collapsed": false,
    "deletable": true,
    "editable": true
   },
   "outputs": [],
   "source": [
    "#Enter your solution here\n",
    "import numpy as np\n",
    "class Walker:\n",
    "    Position = (0,0)\n",
    "    Direction = {}\n",
    "    Path = [(0,0)]\n",
    "    #Path = []\n",
    "    def __init__(self, position):\n",
    "        self.Direction[1] = (1, 0)\n",
    "        self.Direction[2] = (-1, 0)\n",
    "        self.Direction[3] = (0, 1)\n",
    "        self.Direction[4] = (0, -1)\n",
    "        self.Position = position\n",
    "    def getDirection(self):\n",
    "        Next_Direction = np.random.randint(1, 5)\n",
    "        direction = self.Direction[Next_Direction]\n",
    "        return direction\n",
    "    def walk(self):\n",
    "        next_step = self.getDirection()\n",
    "        newX = self.Position[0] + next_step[0]\n",
    "        newY = self.Position[1] + next_step[1]\n",
    "        self.Position = (newX, newY)\n",
    "        self.Path.append(self.Position)\n",
    "    def Get_Path(self):\n",
    "        return self.Path\n",
    "    def Get_Steps(self):\n",
    "        return len(self.Path)\n",
    "    def Get_Position(self):\n",
    "        return self.Position"
   ]
  },
  {
   "cell_type": "code",
   "execution_count": 593,
   "metadata": {
    "collapsed": false,
    "deletable": true,
    "editable": true,
    "scrolled": true
   },
   "outputs": [
    {
     "name": "stdout",
     "output_type": "stream",
     "text": [
      "The  1 th trail takes  40  steps.\n",
      "The  2 th trail takes  52  steps.\n",
      "The  3 th trail takes  14  steps.\n",
      "The  4 th trail takes  31  steps.\n",
      "The  5 th trail takes  17  steps.\n",
      "The average steps are:  30.8  steps.\n"
     ]
    },
    {
     "data": {
      "image/png": "[encoded data removed]",
      "text/plain": [
       "<matplotlib.figure.Figure at 0x104234550>"
      ]
     },
     "metadata": {},
     "output_type": "display_data"
    }
   ],
   "source": [
    "import matplotlib.pyplot as plt\n",
    "steps = []\n",
    "tuple_List = []\n",
    "for i in range(0,5):\n",
    "    start = (0, 0)\n",
    "    my_walker = Walker(start)\n",
    "    my_walker.Path = [(0,0)]\n",
    "    Walking = True\n",
    "    while(Walking):\n",
    "        if(\n",
    "            my_walker.Get_Position()[0] < -4 or\n",
    "            my_walker.Get_Position()[0] > 4  or\n",
    "            my_walker.Get_Position()[1] > 4  or\n",
    "            my_walker.Get_Position()[1] < -4\n",
    "        ):\n",
    "            steps.append(my_walker.Get_Steps())\n",
    "            tuple_List.append(my_walker.Get_Path())\n",
    "            Walking = False\n",
    "            break\n",
    "        my_walker.walk()\n",
    "totalSteps = 0\n",
    "for i in range(len(steps)):\n",
    "    totalSteps += steps[i]\n",
    "    print(\"The \", i+1, \"th trail takes \", steps[i], \" steps.\")\n",
    "AverageSteps = totalSteps / 5\n",
    "\n",
    "print(\"The average steps are: \", AverageSteps, \" steps.\")\n",
    "color = ['red', 'black', 'green', 'yellow', 'brown']\n",
    "for i in range(len(tuple_List)):\n",
    "    #print(i)\n",
    "    current_tuple = tuple_List[i]\n",
    "    x_val = [x[0] for x in current_tuple]\n",
    "    y_val = [x[1] for x in current_tuple]\n",
    "    plt.plot(x_val,y_val, color = color[i])\n",
    "    plt.plot(x_val, y_val, 'or')\n",
    "plt.show()"
   ]
  },
  {
   "cell_type": "markdown",
   "metadata": {
    "deletable": true,
    "editable": true
   },
   "source": [
    "### Problem 4 - Inverse Transform Sampling (10 Points)\n",
    "\n",
    "Random sample for any distribution can be generated from a random sample from uniform distribution. This can be done using **Inverse transform Sampling**. For example, suppose you want to create a sample of size $n$ from an _exponential distribution_. To obtain this sample:\n",
    "1. Generate a sample of size $n$ from Uniform[0,1].\n",
    "2. Identify the inverse of the CDF function of the distribution of your choice (this needs to be done manually and implemented). In our example, it is exponential distribution. Call this function ``inverseCDFExponential()``. Note that you are not allowed to use any routines from ``np.random`` package here. This function should take two arguments, first is the sample point, and the second is the distribution parameter value, $\\lambda$.\n",
    "3. Apply the ``inverseCDFExponential()`` function on each of the $n$ sample points that you generated in step 1. The $n$ outputs will be the sample from your desired distribution. \n",
    "\n",
    "Using the above implementation, generate a sample of size 100 from an  Exponential ($\\lambda=4$) distribution.\n",
    "\n",
    "Your output must include the mean, variance and distribution plot (a histogram) for the generated sample. "
   ]
  },
  {
   "cell_type": "code",
   "execution_count": 594,
   "metadata": {
    "collapsed": false,
    "deletable": true,
    "editable": true
   },
   "outputs": [],
   "source": [
    "#Enter your solution here\n",
    "import numpy as py\n",
    "import random\n",
    "sample = np.random.uniform(0,1,100)\n",
    "def inverseCOFExponential(sample, lam):\n",
    "    y = -np.log(1-sample)/lam\n",
    "    return y"
   ]
  },
  {
   "cell_type": "code",
   "execution_count": 595,
   "metadata": {
    "collapsed": false,
    "deletable": true,
    "editable": true,
    "scrolled": true
   },
   "outputs": [
    {
     "data": {
      "image/png": "[encoded data removed]",
      "text/plain": [
       "<matplotlib.figure.Figure at 0x1045afef0>"
      ]
     },
     "metadata": {},
     "output_type": "display_data"
    },
    {
     "name": "stdout",
     "output_type": "stream",
     "text": [
      "Y mean =  0.224071537361\n",
      "Y variable =  0.0365437231092\n"
     ]
    }
   ],
   "source": [
    "import matplotlib.pyplot as plt\n",
    "y_exponential = inverseCOFExponential(sample, 4)\n",
    "plt.hist(y_exponential, bins = \"auto\")\n",
    "plt.show()\n",
    "print(\"Y mean = \", np.mean(y_exponential))\n",
    "print(\"Y variable = \", np.var(y_exponential))"
   ]
  }
 ],
 "metadata": {
  "kernelspec": {
   "display_name": "Python 3",
   "language": "python",
   "name": "python3"
  },
  "language_info": {
   "codemirror_mode": {
    "name": "ipython",
    "version": 3
   },
   "file_extension": ".py",
   "mimetype": "text/x-python",
   "name": "python",
   "nbconvert_exporter": "python",
   "pygments_lexer": "ipython3",
   "version": "3.5.4"
  }
 },
 "nbformat": 4,
 "nbformat_minor": 2
}
