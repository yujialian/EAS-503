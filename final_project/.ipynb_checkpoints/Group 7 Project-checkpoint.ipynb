{
 "cells": [
  {
   "cell_type": "markdown",
   "metadata": {
    "deletable": true,
    "editable": true
   },
   "source": [
    "# Crimes in Los Angeles"
   ]
  },
  {
   "cell_type": "code",
   "execution_count": 2,
   "metadata": {
    "collapsed": false,
    "deletable": true,
    "editable": true
   },
   "outputs": [
    {
     "data": {
      "text/html": [
       "<script>requirejs.config({paths: { 'plotly': ['https://cdn.plot.ly/plotly-latest.min']},});if(!window.Plotly) {{require(['plotly'],function(plotly) {window.Plotly=plotly;});}}</script>"
      ],
      "text/vnd.plotly.v1+html": [
       "<script>requirejs.config({paths: { 'plotly': ['https://cdn.plot.ly/plotly-latest.min']},});if(!window.Plotly) {{require(['plotly'],function(plotly) {window.Plotly=plotly;});}}</script>"
      ]
     },
     "metadata": {},
     "output_type": "display_data"
    },
    {
     "data": {
      "text/html": [
       "<script>\n",
       "code_show=true; \n",
       "function code_toggle() {\n",
       " if (code_show){\n",
       " $('div.input').hide();\n",
       " } else {\n",
       " $('div.input').show();\n",
       " }\n",
       " code_show = !code_show\n",
       "} \n",
       "$( document ).ready(code_toggle);\n",
       "</script>\n",
       "<form action=\"javascript:code_toggle()\"><input type=\"submit\" value=\"Click here to toggle on/off the raw code.\"></form>"
      ],
      "text/plain": [
       "<IPython.core.display.HTML object>"
      ]
     },
     "execution_count": 2,
     "metadata": {},
     "output_type": "execute_result"
    }
   ],
   "source": [
    "import plotly\n",
    "import folium\n",
    "import plotly.figure_factory as ff\n",
    "from plotly.offline import download_plotlyjs, init_notebook_mode, plot, iplot\n",
    "init_notebook_mode(connected=True)\n",
    "import plotly.offline as off\n",
    "import numpy as np\n",
    "import pandas as pd\n",
    "import numpy as np\n",
    "import pymysql\n",
    "import geocoder\n",
    "import pprint\n",
    "import gmplot\n",
    "import plotly.plotly as py\n",
    "import plotly.graph_objs as go\n",
    "import plotly.plotly as py\n",
    "import pygal\n",
    "import plotly.offline as off\n",
    "conn = pymysql.connect(user='root', passwd='EAS503', db='eas503db')\n",
    "plotly.tools.set_credentials_file(username='EAS503', api_key='a4bHDfT9MHbATNhcCh8L')\n",
    "from IPython.display import HTML\n",
    "HTML('''<script>\n",
    "code_show=true; \n",
    "function code_toggle() {\n",
    " if (code_show){\n",
    " $('div.input').hide();\n",
    " } else {\n",
    " $('div.input').show();\n",
    " }\n",
    " code_show = !code_show\n",
    "} \n",
    "$( document ).ready(code_toggle);\n",
    "</script>\n",
    "<form action=\"javascript:code_toggle()\"><input type=\"submit\" value=\"Click here to toggle on/off the raw code.\"></form>''')"
   ]
  },
  {
   "cell_type": "markdown",
   "metadata": {
    "deletable": true,
    "editable": true
   },
   "source": [
    "The following graph shows the distribution of Crimes in LA city from 2010 through 2017"
   ]
  },
  {
   "cell_type": "code",
   "execution_count": 16,
   "metadata": {
    "collapsed": false,
    "deletable": true,
    "editable": true
   },
   "outputs": [
    {
     "data": {
      "text/html": [
       "<iframe id=\"igraph\" scrolling=\"no\" style=\"border:none;\" seamless=\"seamless\" src=\"https://plot.ly/~EAS503/18.embed\" height=\"525px\" width=\"100%\"></iframe>"
      ],
      "text/plain": [
       "<plotly.tools.PlotlyDisplay object>"
      ]
     },
     "execution_count": 16,
     "metadata": {},
     "output_type": "execute_result"
    }
   ],
   "source": [
    "qry3=\"\"\"\n",
    "select count(*) as Count, left(substring(Date_Occurred,1),50) as Crimes_Date from eas503db.la group by Crimes_Date order by Crimes_Date;\"\"\"\n",
    "df3=pd.DataFrame(pd.read_sql(qry3,conn))\n",
    "df3['Crimes_Date'] =pd.to_datetime(df3['Crimes_Date'])\n",
    "ndf=df3.sort_values(by='Crimes_Date')\n",
    "trace = go.Scatter(x=ndf['Crimes_Date'],\n",
    "                   y=ndf.Count)\n",
    "\n",
    "data = [trace]\n",
    "layout = dict(\n",
    "    title='Crimes By Day, Month and Year in LA City',\n",
    "    xaxis=dict(\n",
    "        rangeselector=dict(\n",
    "            buttons=list([\n",
    "                dict(count=1,\n",
    "                     label='1m',\n",
    "                     step='month',\n",
    "                     stepmode='backward'),\n",
    "                dict(count=6,\n",
    "                     label='6m',\n",
    "                     step='month',\n",
    "                     stepmode='backward'),\n",
    "                dict(count=1,\n",
    "                    label='YTD',\n",
    "                    step='year',\n",
    "                    stepmode='todate'),\n",
    "                dict(count=1,\n",
    "                    label='1y',\n",
    "                    step='year',\n",
    "                    stepmode='backward'),\n",
    "                dict(step='all')\n",
    "            ])\n",
    "        ),\n",
    "        rangeslider=dict(),\n",
    "        type='date'\n",
    "    )\n",
    ")\n",
    "\n",
    "fig = dict(data=data, layout=layout)\n",
    "py.iplot(fig)\n",
    "\n"
   ]
  },
  {
   "cell_type": "markdown",
   "metadata": {
    "deletable": true,
    "editable": true
   },
   "source": [
    "Gender-Wise distributions of Crimes"
   ]
  },
  {
   "cell_type": "code",
   "execution_count": 4,
   "metadata": {
    "collapsed": false,
    "deletable": true,
    "editable": true
   },
   "outputs": [
    {
     "data": {
      "text/html": [
       "<iframe id=\"igraph\" scrolling=\"no\" style=\"border:none;\" seamless=\"seamless\" src=\"https://plot.ly/~EAS503/20.embed\" height=\"525px\" width=\"100%\"></iframe>"
      ],
      "text/plain": [
       "<plotly.tools.PlotlyDisplay object>"
      ]
     },
     "execution_count": 4,
     "metadata": {},
     "output_type": "execute_result"
    }
   ],
   "source": [
    "qry1=\"\"\"\n",
    "SELECT count(*) as Victim_Count,\n",
    "CASE\n",
    "when Victim_Sex = 'F' then 'Female'\n",
    "when Victim_Sex = 'M' then 'Male'\n",
    "else 'Unknown'\n",
    "END as Sex\n",
    "from eas503db.la\n",
    "group by Sex;\"\"\"\n",
    "df1=pd.DataFrame(pd.read_sql(qry1,conn))\n",
    "Victim_Count=df1[\"Victim_Count\"].tolist()\n",
    "Victim_Sex=df1[\"Sex\"].tolist()\n",
    "trace1 = go.Bar(\n",
    "    x=Victim_Sex,\n",
    "    y=Victim_Count,\n",
    "    xaxis='x2',\n",
    "    yaxis='y2',\n",
    "    marker=dict(color=\"Purple\"),\n",
    "    name=Victim_Sex,\n",
    "    showlegend=False\n",
    ")\n",
    "trace2 = go.Pie(\n",
    "    labels=Victim_Sex,\n",
    "    values=Victim_Count,\n",
    "    domain=dict(x=[0, 0.45]),\n",
    "    text=Victim_Sex,\n",
    "    hole=0.4,\n",
    "    sort=False,\n",
    "\n",
    ")\n",
    "data = [trace1, trace2]\n",
    "layout = go.Layout(title=\"Victims by Gender in Los Angeles City\",\n",
    "                   \n",
    "        xaxis2=dict(\n",
    "        domain=[0.5, 0.95],\n",
    "        anchor='y2'\n",
    "    ),\n",
    "    yaxis2=dict(\n",
    "        domain=[0, 1],\n",
    "        anchor='x2'\n",
    "    )\n",
    ")\n",
    "fig = go.Figure(data=data, layout=layout)\n",
    "py.iplot(fig, filename='simple-inset-stream')"
   ]
  },
  {
   "cell_type": "markdown",
   "metadata": {
    "deletable": true,
    "editable": true
   },
   "source": [
    "Area-Wise Distribution of Crimes"
   ]
  },
  {
   "cell_type": "code",
   "execution_count": 3,
   "metadata": {
    "collapsed": false,
    "deletable": true,
    "editable": true
   },
   "outputs": [
    {
     "data": {
      "text/html": [
       "<iframe id=\"igraph\" scrolling=\"no\" style=\"border:none;\" seamless=\"seamless\" src=\"https://plot.ly/~EAS503/22.embed\" height=\"525px\" width=\"100%\"></iframe>"
      ],
      "text/plain": [
       "<plotly.tools.PlotlyDisplay object>"
      ]
     },
     "execution_count": 3,
     "metadata": {},
     "output_type": "execute_result"
    }
   ],
   "source": [
    "qry5=\"\"\"\n",
    "SELECT count(Area_Name) as Count, left(Area_Name,50) as 'Area_Name'\n",
    "from eas503db.la\n",
    "group by left(Area_Name,50);\"\"\"\n",
    "df5=pd.DataFrame(pd.read_sql(qry5,conn))\n",
    "trace1 = go.Bar(\n",
    "    x=df5[\"Area_Name\"],\n",
    "    y=df5.Count,\n",
    "    xaxis='x2',\n",
    "    yaxis='y2',\n",
    "    marker=dict(color=\"Magneta\"),\n",
    "    #name=Victim_Sex,\n",
    "    showlegend=False\n",
    ")\n",
    "trace2 = go.Pie(\n",
    "    labels=df5[\"Area_Name\"],\n",
    "    values=df5.Count,\n",
    "    domain=dict(x=[0, 0.45]),\n",
    "    text=df5[\"Area_Name\"],\n",
    "    hole=0.4,\n",
    "    sort=False,\n",
    "\n",
    ")\n",
    "data = [trace1, trace2]\n",
    "layout = go.Layout(title=\"Area-Wise Crimes\",\n",
    "                   \n",
    "        xaxis2=dict(\n",
    "        domain=[0.5, 0.95],\n",
    "        anchor='y2'\n",
    "    ),\n",
    "    yaxis2=dict(\n",
    "        domain=[0, 1],\n",
    "        anchor='x2'\n",
    "    )\n",
    ")\n",
    "fig = go.Figure(data=data, layout=layout)\n",
    "py.iplot(fig, filename='Crimes By Area')"
   ]
  },
  {
   "cell_type": "markdown",
   "metadata": {
    "deletable": true,
    "editable": true
   },
   "source": [
    "Area & Gender Wise Crimes"
   ]
  },
  {
   "cell_type": "code",
   "execution_count": 3,
   "metadata": {
    "collapsed": false,
    "deletable": true,
    "editable": true
   },
   "outputs": [
    {
     "data": {
      "text/html": [
       "<iframe id=\"igraph\" scrolling=\"no\" style=\"border:none;\" seamless=\"seamless\" src=\"https://plot.ly/~EAS503/24.embed\" height=\"525px\" width=\"100%\"></iframe>"
      ],
      "text/plain": [
       "<plotly.tools.PlotlyDisplay object>"
      ]
     },
     "execution_count": 3,
     "metadata": {},
     "output_type": "execute_result"
    }
   ],
   "source": [
    "qr7=\"\"\"\n",
    "SELECT count(*) as Victim_Count,left(Area_Name,50) as 'Area_Name',\n",
    "case \n",
    "when left(Victim_Sex,10) = 'F' then 'Female'\n",
    "when left(Victim_Sex,10) = 'M' then 'Male'\n",
    "else 'Unknown'\n",
    "end as Sex\n",
    "from eas503db.la group by Sex,left(Area_Name,50);\"\"\"\n",
    "df7=pd.DataFrame(pd.read_sql(qr7,conn))\n",
    "a1=df7[df7[\"Sex\"]==\"Female\"]\n",
    "dfF=a1[\"Victim_Count\"]\n",
    "\n",
    "a2=df7[df7[\"Sex\"]==\"Male\"]\n",
    "dfM=a2[\"Victim_Count\"]\n",
    "\n",
    "a3=df7[df7[\"Sex\"]==\"Unknown\"]\n",
    "dfU=a3[\"Victim_Count\"]\n",
    "\n",
    "\n",
    "\n",
    "trace1 = go.Bar(\n",
    "    x=df7[\"Area_Name\"],\n",
    "    y=dfF,\n",
    "    name='Female Victims'\n",
    ")\n",
    "trace2 = go.Bar(\n",
    "    x=df7[\"Area_Name\"],\n",
    "    y=dfM,\n",
    "    name='Male Victims'\n",
    ")\n",
    "\n",
    "trace3 = go.Bar(\n",
    "    x=df7[\"Area_Name\"],\n",
    "    y=dfU,\n",
    "    name='Unknown Victims'\n",
    ")\n",
    "\n",
    "data = [trace1, trace2,trace3]\n",
    "layout = go.Layout(title=\"Area & Gender wise Crimes\",\n",
    "    barmode='stack'\n",
    ")\n",
    "\n",
    "fig = go.Figure(data=data, layout=layout)\n",
    "py.iplot(fig, filename='stacked-bar')"
   ]
  },
  {
   "cell_type": "markdown",
   "metadata": {
    "deletable": true,
    "editable": true
   },
   "source": [
    "Distribution of Crimes by Descent"
   ]
  },
  {
   "cell_type": "code",
   "execution_count": 4,
   "metadata": {
    "collapsed": false,
    "deletable": true,
    "editable": true
   },
   "outputs": [
    {
     "data": {
      "text/html": [
       "<iframe id=\"igraph\" scrolling=\"no\" style=\"border:none;\" seamless=\"seamless\" src=\"https://plot.ly/~EAS503/26.embed\" height=\"525px\" width=\"100%\"></iframe>"
      ],
      "text/plain": [
       "<plotly.tools.PlotlyDisplay object>"
      ]
     },
     "execution_count": 4,
     "metadata": {},
     "output_type": "execute_result"
    }
   ],
   "source": [
    "qr8=\"\"\"\n",
    "select count(*) as Count,case\n",
    "when Victim_Descent='A' then 'Other Asian'\n",
    "when Victim_Descent='B' then 'Black'\n",
    "when Victim_Descent='C' then 'Chinese'\n",
    "when Victim_Descent='D' then 'Cambodian'\n",
    "when Victim_Descent='F' then 'Filipino'\n",
    "when Victim_Descent='G' then 'Guamanian'\n",
    "when Victim_Descent='H' then 'Hispanic/Latin/Mexican'\n",
    "when Victim_Descent='I' then 'American Indian/Alaskan'\n",
    "when Victim_Descent='J' then 'Japanese'\n",
    "when Victim_Descent='K' then 'Korean'\n",
    "when Victim_Descent='L' then 'Laotian'\n",
    "when Victim_Descent='O' then 'Other'\n",
    "when Victim_Descent='P' then 'Pacific Islander'\n",
    "when Victim_Descent='S' then 'Samoan'\n",
    "when Victim_Descent='U' then 'Hawaiian'\n",
    "when Victim_Descent='V' then 'Vietnamese'\n",
    "when Victim_Descent='W' then 'White'\n",
    "when Victim_Descent='X' then 'Unknown'\n",
    "when Victim_Descent='Z' then 'Asian Indian'\n",
    "when Victim_Descent='-' then 'Unknown'\n",
    "else 'Unknown'\n",
    "end as Race\n",
    "from eas503db.la group by Race order by Count DESC;\"\"\"\n",
    "df8=pd.DataFrame(pd.read_sql(qr8,conn))\n",
    "l=[]\n",
    "c=[120, 125, 130, 135, 140, 145,150,155,160,165,170,175,180,185,190,195,200]\n",
    "for i in range(15,100):\n",
    "    i=i+3\n",
    "    l+=[i]\n",
    "\n",
    "trace0 = go.Scatter(\n",
    "    x=df8[\"Race\"],\n",
    "    y=df8.Count,\n",
    "    mode='markers',\n",
    "    marker=dict(\n",
    "        \n",
    "        color=np.random.randn(18),\n",
    "        opacity=[1,1,1,1,1,1,1,1,1,1,1,1,1,1,1,1,1,1],\n",
    "        size=l[1:20][::-1]\n",
    "    )\n",
    ")\n",
    "\n",
    "data = [trace0]\n",
    "py.iplot(data, filename='bubblechart-color')"
   ]
  },
  {
   "cell_type": "markdown",
   "metadata": {
    "deletable": true,
    "editable": true
   },
   "source": [
    "Is LA city safe at day or night?"
   ]
  },
  {
   "cell_type": "code",
   "execution_count": 5,
   "metadata": {
    "collapsed": false,
    "deletable": true,
    "editable": true
   },
   "outputs": [
    {
     "data": {
      "text/html": [
       "<iframe id=\"igraph\" scrolling=\"no\" style=\"border:none;\" seamless=\"seamless\" src=\"https://plot.ly/~EAS503/28.embed\" height=\"525px\" width=\"100%\"></iframe>"
      ],
      "text/plain": [
       "<plotly.tools.PlotlyDisplay object>"
      ]
     },
     "execution_count": 5,
     "metadata": {},
     "output_type": "execute_result"
    }
   ],
   "source": [
    "qr9=\"\"\"select count(*) as Count,\n",
    "case\n",
    "when Time_Occurred between 600 and 1800 then 'Day_Time'\n",
    "when Time_Occurred between 1801 and 2359 then 'Night_Time'\n",
    "when Time_Occurred between 0000 and 599 then 'Night_Time'\n",
    "end as Time,\n",
    "case\n",
    "when Victim_Sex = 'F' then 'Female'\n",
    "when Victim_Sex = 'M' then 'Male'\n",
    "else 'Unknown'\n",
    "end as Sex\n",
    "from eas503db.la group by Time,Sex;\"\"\"\n",
    "df9=pd.read_sql(qr9,conn)\n",
    "a=df9.loc[(df9[\"Time\"]=='Day_Time') & (df9[\"Sex\"]=='Male')][\"Count\"][1]\n",
    "b=df9.loc[(df9[\"Time\"]=='Day_Time') & (df9[\"Sex\"]=='Female')][\"Count\"][0]\n",
    "c=df9.loc[(df9[\"Time\"]=='Day_Time') & (df9[\"Sex\"]=='Unknown')][\"Count\"][2]\n",
    "A=df9.loc[(df9[\"Time\"]=='Night_Time') & (df9[\"Sex\"]=='Male')][\"Count\"][4]\n",
    "B=df9.loc[(df9[\"Time\"]=='Night_Time') & (df9[\"Sex\"]=='Female')][\"Count\"][3]\n",
    "C=df9.loc[(df9[\"Time\"]=='Night_Time') & (df9[\"Sex\"]=='Unknown')][\"Count\"][5]\n",
    "\n",
    "trace1 = go.Bar(\n",
    "    y=['Male', 'Female', 'Unknown'],\n",
    "    x=[a,b,c],\n",
    "    name='Crimes b/w 6AM-6PM',\n",
    "    orientation = 'h',\n",
    "    marker = dict(\n",
    "        color = 'magneta',\n",
    "        line = dict(\n",
    "            color = 'red',\n",
    "            width = 3)\n",
    "    )\n",
    ")\n",
    "trace2 = go.Bar(\n",
    "    y=['Male', 'Female', 'Unknown'],\n",
    "    x=[A,B,C],\n",
    "    name='Crimes b/w 6PM-6AM',\n",
    "    orientation = 'h',\n",
    "    marker = dict(\n",
    "        color = 'red',\n",
    "        line = dict(\n",
    "            color = 'green',\n",
    "            width = 3)\n",
    "    )\n",
    ")\n",
    "\n",
    "data = [trace1, trace2]\n",
    "layout = go.Layout(\n",
    "    barmode='stack'\n",
    ")\n",
    "\n",
    "fig=go.Figure(data=data, layout=layout)\n",
    "py.iplot(fig,image='png')"
   ]
  }
 ],
 "metadata": {
  "kernelspec": {
   "display_name": "Python 3",
   "language": "python",
   "name": "python3"
  },
  "language_info": {
   "codemirror_mode": {
    "name": "ipython",
    "version": 3
   },
   "file_extension": ".py",
   "mimetype": "text/x-python",
   "name": "python",
   "nbconvert_exporter": "python",
   "pygments_lexer": "ipython3",
   "version": "3.5.4"
  }
 },
 "nbformat": 4,
 "nbformat_minor": 2
}
