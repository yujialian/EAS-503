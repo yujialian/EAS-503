{
 "cells": [
  {
   "cell_type": "code",
   "execution_count": 49,
   "metadata": {
    "collapsed": true,
    "deletable": true,
    "editable": true
   },
   "outputs": [],
   "source": [
    "import plotly\n",
    "import pandas as pd\n",
    "import numpy as np\n",
    "import pymysql\n",
    "import pprint\n",
    "import plotly.plotly as py\n",
    "import plotly.graph_objs as go\n",
    "import plotly.plotly as py\n",
    "conn = pymysql.connect(user='root', passwd='EAS503', db='eas503db')"
   ]
  },
  {
   "cell_type": "code",
   "execution_count": 57,
   "metadata": {
    "collapsed": true,
    "deletable": true,
    "editable": true
   },
   "outputs": [],
   "source": [
    "plotly.tools.set_credentials_file(username='ParthOza', api_key='tInInGfIUPWsPBqWnNBF')"
   ]
  },
  {
   "cell_type": "code",
   "execution_count": 171,
   "metadata": {
    "collapsed": true,
    "deletable": true,
    "editable": true
   },
   "outputs": [],
   "source": [
    "qry1=\"\"\"\n",
    "SELECT count(*) as Victim_Count,\n",
    "CASE\n",
    "when Victim_Sex = 'F' then 'Female'\n",
    "when Victim_Sex = 'M' then 'Male'\n",
    "else 'Unknown'\n",
    "END as Sex\n",
    "from eas503db.la\n",
    "group by Sex;\"\"\"\n",
    "df1=pd.DataFrame(pd.read_sql(qry1,conn))\n",
    "Victim_Count=df1[\"Victim_Count\"].tolist()\n",
    "Victim_Sex=df1[\"Sex\"].tolist()"
   ]
  },
  {
   "cell_type": "code",
   "execution_count": 197,
   "metadata": {
    "collapsed": false,
    "deletable": true,
    "editable": true
   },
   "outputs": [
    {
     "data": {
      "text/html": [
       "<iframe id=\"igraph\" scrolling=\"no\" style=\"border:none;\" seamless=\"seamless\" src=\"https://plot.ly/~ParthOza/14.embed\" height=\"525px\" width=\"100%\"></iframe>"
      ],
      "text/plain": [
       "<plotly.tools.PlotlyDisplay object>"
      ]
     },
     "execution_count": 197,
     "metadata": {},
     "output_type": "execute_result"
    }
   ],
   "source": [
    "trace1 = go.Bar(\n",
    "    x=Victim_Sex,\n",
    "    y=Victim_Count,\n",
    "    xaxis='x2',\n",
    "    yaxis='y2',\n",
    "    marker=dict(color=\"Purple\"),\n",
    "    name=Victim_Sex,\n",
    "    showlegend=False\n",
    ")\n",
    "trace2 = go.Pie(\n",
    "    labels=Victim_Sex,\n",
    "    values=Victim_Count,\n",
    "    domain=dict(x=[0, 0.45]),\n",
    "    text=Victim_Sex,\n",
    "    hole=0.4,\n",
    "    sort=False,\n",
    "\n",
    ")\n",
    "data = [trace1, trace2]\n",
    "layout = go.Layout(title=\"Victims by Gender in Los Angeles City\",\n",
    "                   \n",
    "        xaxis2=dict(\n",
    "        domain=[0.5, 0.95],\n",
    "        anchor='y2'\n",
    "    ),\n",
    "    yaxis2=dict(\n",
    "        domain=[0, 1],\n",
    "        anchor='x2'\n",
    "    )\n",
    ")\n",
    "fig = go.Figure(data=data, layout=layout)\n",
    "py.iplot(fig, filename='simple-inset-stream')"
   ]
  },
  {
   "cell_type": "code",
   "execution_count": 176,
   "metadata": {
    "collapsed": false,
    "deletable": true,
    "editable": true
   },
   "outputs": [
    {
     "data": {
      "text/html": [
       "<iframe id=\"igraph\" scrolling=\"no\" style=\"border:none;\" seamless=\"seamless\" src=\"https://plot.ly/~ParthOza/2.embed\" height=\"525px\" width=\"100%\"></iframe>"
      ],
      "text/plain": [
       "<plotly.tools.PlotlyDisplay object>"
      ]
     },
     "execution_count": 176,
     "metadata": {},
     "output_type": "execute_result"
    }
   ],
   "source": [
    "fig1 = {\n",
    "  \"data\": [\n",
    "    {\n",
    "      \"values\": Victim_Count,\n",
    "      \"labels\": Victim_Sex,\n",
    "      #\"domain\": {\"x\": [0, .48]},\n",
    "      \"name\": \"Crimes\",\n",
    "      \"hoverinfo\":\"label+percent+name\",\n",
    "      \"hole\": .4,\n",
    "      \"type\": \"pie\"}],\n",
    "\"layout\": {\n",
    "    \"title\":\"Crimes by Gender in Los Angeles\",\n",
    "        \"annotations\": [\n",
    "            {\n",
    "                \"font\": {\n",
    "                    \"size\": 20\n",
    "                },\n",
    "                \"showarrow\": False,\n",
    "                \"text\": \"Total Crimes\",\n",
    "                \"x\": 0.5,\n",
    "                \"y\": 0.5\n",
    "            }]}}\n",
    "            \n",
    "py.iplot(fig1, filename='donut')"
   ]
  },
  {
   "cell_type": "code",
   "execution_count": 203,
   "metadata": {
    "collapsed": true,
    "deletable": true,
    "editable": true
   },
   "outputs": [],
   "source": [
    "######################\n",
    "## Time Series Plot\n",
    "######################\n",
    "\n",
    "\n",
    "qry3=\"\"\"\n",
    "SELECT concat(substring(Date_Occurred,1,2),\"/\",right(Date_Occurred,4)) as 'Month/Year',count(Date_Occurred) as Count,\n",
    "case \n",
    "when substring(Date_Occurred,1,2) = '01' then concat('January',\"-\",right(Date_Occurred,4))\n",
    "when substring(Date_Occurred,1,2) = '02' then concat('February',\"-\",right(Date_Occurred,4))\n",
    "when substring(Date_Occurred,1,2) = '03' then concat('March',\"-\",right(Date_Occurred,4))\n",
    "when substring(Date_Occurred,1,2) = '04' then concat('April',\"-\",right(Date_Occurred,4))\n",
    "when substring(Date_Occurred,1,2) = '05' then concat('May',\"-\",right(Date_Occurred,4))\n",
    "when substring(Date_Occurred,1,2) = '06' then concat('June',\"-\",right(Date_Occurred,4))\n",
    "when substring(Date_Occurred,1,2) = '07' then concat('July',\"-\",right(Date_Occurred,4))\n",
    "when substring(Date_Occurred,1,2) = '08' then concat('August',\"-\",right(Date_Occurred,4))\n",
    "when substring(Date_Occurred,1,2) = '09' then concat('September',\"-\",right(Date_Occurred,4))\n",
    "when substring(Date_Occurred,1,2) = '10' then concat('October',\"-\",right(Date_Occurred,4))\n",
    "when substring(Date_Occurred,1,2) = '11' then concat('November',\"-\",right(Date_Occurred,4))\n",
    "when substring(Date_Occurred,1,2) = '12' then concat('December',\"-\",right(Date_Occurred,4))\n",
    "end as MtYr\n",
    "from eas503db.la group by concat(substring(Date_Occurred,1,2),\"/\",right(Date_Occurred,4)) order by right(Date_Occurred,4),substring(Date_Occurred,1,2);\"\"\""
   ]
  },
  {
   "cell_type": "code",
   "execution_count": 204,
   "metadata": {
    "collapsed": true,
    "deletable": true,
    "editable": true
   },
   "outputs": [],
   "source": [
    "df3=pd.DataFrame(pd.read_sql(qry3,conn))"
   ]
  },
  {
   "cell_type": "code",
   "execution_count": 205,
   "metadata": {
    "collapsed": false,
    "deletable": true,
    "editable": true
   },
   "outputs": [
    {
     "data": {
      "text/html": [
       "<iframe id=\"igraph\" scrolling=\"no\" style=\"border:none;\" seamless=\"seamless\" src=\"https://plot.ly/~ParthOza/6.embed\" height=\"525px\" width=\"100%\"></iframe>"
      ],
      "text/plain": [
       "<plotly.tools.PlotlyDisplay object>"
      ]
     },
     "execution_count": 205,
     "metadata": {},
     "output_type": "execute_result"
    }
   ],
   "source": [
    "data = [go.Scatter(\n",
    "          x=df3[\"MtYr\"],\n",
    "          y=df3.Count)]\n",
    "\n",
    "py.iplot(data,filename=\"Time Series Plot\")"
   ]
  },
  {
   "cell_type": "code",
   "execution_count": 206,
   "metadata": {
    "collapsed": true,
    "deletable": true,
    "editable": true
   },
   "outputs": [],
   "source": [
    "qry5=\"\"\"\n",
    "SELECT count(Area_Name) as Count, Area_Name\n",
    "from eas503db.la\n",
    "group by Area_Name;\"\"\""
   ]
  },
  {
   "cell_type": "code",
   "execution_count": 207,
   "metadata": {
    "collapsed": true,
    "deletable": true,
    "editable": true
   },
   "outputs": [],
   "source": [
    "df5=pd.DataFrame(pd.read_sql(qry5,conn))"
   ]
  },
  {
   "cell_type": "code",
   "execution_count": 210,
   "metadata": {
    "collapsed": false,
    "deletable": true,
    "editable": true
   },
   "outputs": [
    {
     "data": {
      "text/html": [
       "<iframe id=\"igraph\" scrolling=\"no\" style=\"border:none;\" seamless=\"seamless\" src=\"https://plot.ly/~ParthOza/16.embed\" height=\"525px\" width=\"100%\"></iframe>"
      ],
      "text/plain": [
       "<plotly.tools.PlotlyDisplay object>"
      ]
     },
     "execution_count": 210,
     "metadata": {},
     "output_type": "execute_result"
    }
   ],
   "source": [
    "trace1 = go.Bar(\n",
    "    x=df5[\"Area_Name\"],\n",
    "    y=df5.Count,\n",
    "    xaxis='x2',\n",
    "    yaxis='y2',\n",
    "    marker=dict(color=\"Magneta\"),\n",
    "    name=Victim_Sex,\n",
    "    showlegend=False\n",
    ")\n",
    "trace2 = go.Pie(\n",
    "    labels=df5[\"Area_Name\"],\n",
    "    values=df5.Count,\n",
    "    domain=dict(x=[0, 0.45]),\n",
    "    text=df5[\"Area_Name\"],\n",
    "    hole=0.4,\n",
    "    sort=False,\n",
    "\n",
    ")\n",
    "data = [trace1, trace2]\n",
    "layout = go.Layout(title=\"Area-Wise Crimes\",\n",
    "                   \n",
    "        xaxis2=dict(\n",
    "        domain=[0.5, 0.95],\n",
    "        anchor='y2'\n",
    "    ),\n",
    "    yaxis2=dict(\n",
    "        domain=[0, 1],\n",
    "        anchor='x2'\n",
    "    )\n",
    ")\n",
    "fig = go.Figure(data=data, layout=layout)\n",
    "py.iplot(fig, filename='Crimes By Area')"
   ]
  }
 ],
 "metadata": {
  "kernelspec": {
   "display_name": "Python 3",
   "language": "python",
   "name": "python3"
  },
  "language_info": {
   "codemirror_mode": {
    "name": "ipython",
    "version": 3
   },
   "file_extension": ".py",
   "mimetype": "text/x-python",
   "name": "python",
   "nbconvert_exporter": "python",
   "pygments_lexer": "ipython3",
   "version": "3.5.4"
  }
 },
 "nbformat": 4,
 "nbformat_minor": 2
}
